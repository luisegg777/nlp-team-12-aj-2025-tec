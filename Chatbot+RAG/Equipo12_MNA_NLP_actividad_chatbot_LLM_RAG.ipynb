{
  "cells": [
    {
      "cell_type": "markdown",
      "metadata": {
        "id": "-hVND8xY2OKY"
      },
      "source": [
        "# **Procesamiento de Lenguaje Natural**\n",
        "\n",
        "## Maestría en Inteligencia Artificial Aplicada\n",
        "#### Tecnológico de Monterrey\n",
        "#### Prof Luis Eduardo Falcón Morales\n",
        "\n",
        "### **Adtividad en Equipos: sistema LLM + RAG**"
      ]
    },
    {
      "cell_type": "markdown",
      "metadata": {
        "id": "aimHVFOv23lm"
      },
      "source": [
        "* **Nombres y matrículas:**\n",
        "\n",
        "  *   Elemento de lista\n",
        "  *   Elemento de lista\n",
        "  *   Elemento de lista\n",
        "\n",
        "* **Número de Equipo:**\n"
      ]
    },
    {
      "cell_type": "markdown",
      "metadata": {
        "id": "7jimvsiVgjMg"
      },
      "source": [
        "* ##### **El formato de este cuaderno de Jupyter es libre, pero debe incuir al menos las siguientes secciones:**\n",
        "\n",
        "  * ##### **Introducción de la problemática a resolver.**\n",
        "  * ##### **Sistema RAG + LLM**\n",
        "  * ##### **El chatbot, incluyendo ejemplos de prueba.**\n",
        "  * ##### **Conclusiones**\n",
        "\n",
        "* ##### **Pueden importar los paquetes o librerías que requieran.**\n",
        "\n",
        "* ##### **Pueden incluir las celdas y líneas de código que deseen.**"
      ]
    },
    {
      "cell_type": "markdown",
      "metadata": {
        "id": "mjxs5jfnJ82a"
      },
      "source": [
        "# **1. Instalación de dependencias**"
      ]
    },
    {
      "cell_type": "code",
      "execution_count": null,
      "metadata": {
        "colab": {
          "base_uri": "https://localhost:8080/"
        },
        "id": "Bfs5Zxc9j7Uf",
        "outputId": "8881870e-f915-4267-80f9-f993e0aa176a"
      },
      "outputs": [
        {
          "name": "stdout",
          "output_type": "stream",
          "text": [
            "Collecting PyPDF2\n",
            "  Downloading pypdf2-3.0.1-py3-none-any.whl.metadata (6.8 kB)\n",
            "Collecting docx\n",
            "  Downloading docx-0.2.4.tar.gz (54 kB)\n",
            "\u001b[?25l     \u001b[90m━━━━━━━━━━━━━━━━━━━━━━━━━━━━━━━━━━━━━━━━\u001b[0m \u001b[32m0.0/54.9 kB\u001b[0m \u001b[31m?\u001b[0m eta \u001b[36m-:--:--\u001b[0m\r\u001b[2K     \u001b[90m━━━━━━━━━━━━━━━━━━━━━━━━━━━━━━━━━━━━━━━━\u001b[0m \u001b[32m54.9/54.9 kB\u001b[0m \u001b[31m1.5 MB/s\u001b[0m eta \u001b[36m0:00:00\u001b[0m\n",
            "\u001b[?25h  Preparing metadata (setup.py) ... \u001b[?25l\u001b[?25hdone\n",
            "Requirement already satisfied: openai in /usr/local/lib/python3.11/dist-packages (1.84.0)\n",
            "Requirement already satisfied: pandas in /usr/local/lib/python3.11/dist-packages (2.2.2)\n",
            "Requirement already satisfied: numpy in /usr/local/lib/python3.11/dist-packages (2.0.2)\n",
            "Requirement already satisfied: lxml in /usr/local/lib/python3.11/dist-packages (from docx) (5.4.0)\n",
            "Requirement already satisfied: Pillow>=2.0 in /usr/local/lib/python3.11/dist-packages (from docx) (11.2.1)\n",
            "Requirement already satisfied: anyio<5,>=3.5.0 in /usr/local/lib/python3.11/dist-packages (from openai) (4.9.0)\n",
            "Requirement already satisfied: distro<2,>=1.7.0 in /usr/local/lib/python3.11/dist-packages (from openai) (1.9.0)\n",
            "Requirement already satisfied: httpx<1,>=0.23.0 in /usr/local/lib/python3.11/dist-packages (from openai) (0.28.1)\n",
            "Requirement already satisfied: jiter<1,>=0.4.0 in /usr/local/lib/python3.11/dist-packages (from openai) (0.10.0)\n",
            "Requirement already satisfied: pydantic<3,>=1.9.0 in /usr/local/lib/python3.11/dist-packages (from openai) (2.11.5)\n",
            "Requirement already satisfied: sniffio in /usr/local/lib/python3.11/dist-packages (from openai) (1.3.1)\n",
            "Requirement already satisfied: tqdm>4 in /usr/local/lib/python3.11/dist-packages (from openai) (4.67.1)\n",
            "Requirement already satisfied: typing-extensions<5,>=4.11 in /usr/local/lib/python3.11/dist-packages (from openai) (4.14.0)\n",
            "Requirement already satisfied: python-dateutil>=2.8.2 in /usr/local/lib/python3.11/dist-packages (from pandas) (2.9.0.post0)\n",
            "Requirement already satisfied: pytz>=2020.1 in /usr/local/lib/python3.11/dist-packages (from pandas) (2025.2)\n",
            "Requirement already satisfied: tzdata>=2022.7 in /usr/local/lib/python3.11/dist-packages (from pandas) (2025.2)\n",
            "Requirement already satisfied: idna>=2.8 in /usr/local/lib/python3.11/dist-packages (from anyio<5,>=3.5.0->openai) (3.10)\n",
            "Requirement already satisfied: certifi in /usr/local/lib/python3.11/dist-packages (from httpx<1,>=0.23.0->openai) (2025.4.26)\n",
            "Requirement already satisfied: httpcore==1.* in /usr/local/lib/python3.11/dist-packages (from httpx<1,>=0.23.0->openai) (1.0.9)\n",
            "Requirement already satisfied: h11>=0.16 in /usr/local/lib/python3.11/dist-packages (from httpcore==1.*->httpx<1,>=0.23.0->openai) (0.16.0)\n",
            "Requirement already satisfied: annotated-types>=0.6.0 in /usr/local/lib/python3.11/dist-packages (from pydantic<3,>=1.9.0->openai) (0.7.0)\n",
            "Requirement already satisfied: pydantic-core==2.33.2 in /usr/local/lib/python3.11/dist-packages (from pydantic<3,>=1.9.0->openai) (2.33.2)\n",
            "Requirement already satisfied: typing-inspection>=0.4.0 in /usr/local/lib/python3.11/dist-packages (from pydantic<3,>=1.9.0->openai) (0.4.1)\n",
            "Requirement already satisfied: six>=1.5 in /usr/local/lib/python3.11/dist-packages (from python-dateutil>=2.8.2->pandas) (1.17.0)\n",
            "Downloading pypdf2-3.0.1-py3-none-any.whl (232 kB)\n",
            "\u001b[2K   \u001b[90m━━━━━━━━━━━━━━━━━━━━━━━━━━━━━━━━━━━━━━━━\u001b[0m \u001b[32m232.6/232.6 kB\u001b[0m \u001b[31m3.2 MB/s\u001b[0m eta \u001b[36m0:00:00\u001b[0m\n",
            "\u001b[?25hBuilding wheels for collected packages: docx\n",
            "  Building wheel for docx (setup.py) ... \u001b[?25l\u001b[?25hdone\n",
            "  Created wheel for docx: filename=docx-0.2.4-py3-none-any.whl size=53893 sha256=f5a094ac9764e5365a1ad6379ac01886958ce1a634d7dbe48a470db9713e7e87\n",
            "  Stored in directory: /root/.cache/pip/wheels/c1/3e/c3/e81c11effd0be5658a035947c66792dd993bcff317eae0e1ed\n",
            "Successfully built docx\n",
            "Installing collected packages: PyPDF2, docx\n",
            "Successfully installed PyPDF2-3.0.1 docx-0.2.4\n",
            "Requirement already satisfied: gradio in /usr/local/lib/python3.11/dist-packages (5.31.0)\n",
            "Collecting gradio\n",
            "  Downloading gradio-5.33.1-py3-none-any.whl.metadata (16 kB)\n",
            "Requirement already satisfied: aiofiles<25.0,>=22.0 in /usr/local/lib/python3.11/dist-packages (from gradio) (24.1.0)\n",
            "Requirement already satisfied: anyio<5.0,>=3.0 in /usr/local/lib/python3.11/dist-packages (from gradio) (4.9.0)\n",
            "Requirement already satisfied: fastapi<1.0,>=0.115.2 in /usr/local/lib/python3.11/dist-packages (from gradio) (0.115.12)\n",
            "Requirement already satisfied: ffmpy in /usr/local/lib/python3.11/dist-packages (from gradio) (0.6.0)\n",
            "Collecting gradio-client==1.10.3 (from gradio)\n",
            "  Downloading gradio_client-1.10.3-py3-none-any.whl.metadata (7.1 kB)\n",
            "Requirement already satisfied: groovy~=0.1 in /usr/local/lib/python3.11/dist-packages (from gradio) (0.1.2)\n",
            "Requirement already satisfied: httpx>=0.24.1 in /usr/local/lib/python3.11/dist-packages (from gradio) (0.28.1)\n",
            "Requirement already satisfied: huggingface-hub>=0.28.1 in /usr/local/lib/python3.11/dist-packages (from gradio) (0.32.4)\n",
            "Requirement already satisfied: jinja2<4.0 in /usr/local/lib/python3.11/dist-packages (from gradio) (3.1.6)\n",
            "Requirement already satisfied: markupsafe<4.0,>=2.0 in /usr/local/lib/python3.11/dist-packages (from gradio) (3.0.2)\n",
            "Requirement already satisfied: numpy<3.0,>=1.0 in /usr/local/lib/python3.11/dist-packages (from gradio) (2.0.2)\n",
            "Requirement already satisfied: orjson~=3.0 in /usr/local/lib/python3.11/dist-packages (from gradio) (3.10.18)\n",
            "Requirement already satisfied: packaging in /usr/local/lib/python3.11/dist-packages (from gradio) (24.2)\n",
            "Requirement already satisfied: pandas<3.0,>=1.0 in /usr/local/lib/python3.11/dist-packages (from gradio) (2.2.2)\n",
            "Requirement already satisfied: pillow<12.0,>=8.0 in /usr/local/lib/python3.11/dist-packages (from gradio) (11.2.1)\n",
            "Requirement already satisfied: pydantic<2.12,>=2.0 in /usr/local/lib/python3.11/dist-packages (from gradio) (2.11.5)\n",
            "Requirement already satisfied: pydub in /usr/local/lib/python3.11/dist-packages (from gradio) (0.25.1)\n",
            "Requirement already satisfied: python-multipart>=0.0.18 in /usr/local/lib/python3.11/dist-packages (from gradio) (0.0.20)\n",
            "Requirement already satisfied: pyyaml<7.0,>=5.0 in /usr/local/lib/python3.11/dist-packages (from gradio) (6.0.2)\n",
            "Requirement already satisfied: ruff>=0.9.3 in /usr/local/lib/python3.11/dist-packages (from gradio) (0.11.12)\n",
            "Requirement already satisfied: safehttpx<0.2.0,>=0.1.6 in /usr/local/lib/python3.11/dist-packages (from gradio) (0.1.6)\n",
            "Requirement already satisfied: semantic-version~=2.0 in /usr/local/lib/python3.11/dist-packages (from gradio) (2.10.0)\n",
            "Requirement already satisfied: starlette<1.0,>=0.40.0 in /usr/local/lib/python3.11/dist-packages (from gradio) (0.46.2)\n",
            "Requirement already satisfied: tomlkit<0.14.0,>=0.12.0 in /usr/local/lib/python3.11/dist-packages (from gradio) (0.13.2)\n",
            "Requirement already satisfied: typer<1.0,>=0.12 in /usr/local/lib/python3.11/dist-packages (from gradio) (0.16.0)\n",
            "Requirement already satisfied: typing-extensions~=4.0 in /usr/local/lib/python3.11/dist-packages (from gradio) (4.14.0)\n",
            "Requirement already satisfied: uvicorn>=0.14.0 in /usr/local/lib/python3.11/dist-packages (from gradio) (0.34.3)\n",
            "Requirement already satisfied: fsspec in /usr/local/lib/python3.11/dist-packages (from gradio-client==1.10.3->gradio) (2025.3.2)\n",
            "Requirement already satisfied: websockets<16.0,>=10.0 in /usr/local/lib/python3.11/dist-packages (from gradio-client==1.10.3->gradio) (15.0.1)\n",
            "Requirement already satisfied: idna>=2.8 in /usr/local/lib/python3.11/dist-packages (from anyio<5.0,>=3.0->gradio) (3.10)\n",
            "Requirement already satisfied: sniffio>=1.1 in /usr/local/lib/python3.11/dist-packages (from anyio<5.0,>=3.0->gradio) (1.3.1)\n",
            "Requirement already satisfied: certifi in /usr/local/lib/python3.11/dist-packages (from httpx>=0.24.1->gradio) (2025.4.26)\n",
            "Requirement already satisfied: httpcore==1.* in /usr/local/lib/python3.11/dist-packages (from httpx>=0.24.1->gradio) (1.0.9)\n",
            "Requirement already satisfied: h11>=0.16 in /usr/local/lib/python3.11/dist-packages (from httpcore==1.*->httpx>=0.24.1->gradio) (0.16.0)\n",
            "Requirement already satisfied: filelock in /usr/local/lib/python3.11/dist-packages (from huggingface-hub>=0.28.1->gradio) (3.18.0)\n",
            "Requirement already satisfied: requests in /usr/local/lib/python3.11/dist-packages (from huggingface-hub>=0.28.1->gradio) (2.32.3)\n",
            "Requirement already satisfied: tqdm>=4.42.1 in /usr/local/lib/python3.11/dist-packages (from huggingface-hub>=0.28.1->gradio) (4.67.1)\n",
            "Requirement already satisfied: hf-xet<2.0.0,>=1.1.2 in /usr/local/lib/python3.11/dist-packages (from huggingface-hub>=0.28.1->gradio) (1.1.2)\n",
            "Requirement already satisfied: python-dateutil>=2.8.2 in /usr/local/lib/python3.11/dist-packages (from pandas<3.0,>=1.0->gradio) (2.9.0.post0)\n",
            "Requirement already satisfied: pytz>=2020.1 in /usr/local/lib/python3.11/dist-packages (from pandas<3.0,>=1.0->gradio) (2025.2)\n",
            "Requirement already satisfied: tzdata>=2022.7 in /usr/local/lib/python3.11/dist-packages (from pandas<3.0,>=1.0->gradio) (2025.2)\n",
            "Requirement already satisfied: annotated-types>=0.6.0 in /usr/local/lib/python3.11/dist-packages (from pydantic<2.12,>=2.0->gradio) (0.7.0)\n",
            "Requirement already satisfied: pydantic-core==2.33.2 in /usr/local/lib/python3.11/dist-packages (from pydantic<2.12,>=2.0->gradio) (2.33.2)\n",
            "Requirement already satisfied: typing-inspection>=0.4.0 in /usr/local/lib/python3.11/dist-packages (from pydantic<2.12,>=2.0->gradio) (0.4.1)\n",
            "Requirement already satisfied: click>=8.0.0 in /usr/local/lib/python3.11/dist-packages (from typer<1.0,>=0.12->gradio) (8.2.1)\n",
            "Requirement already satisfied: shellingham>=1.3.0 in /usr/local/lib/python3.11/dist-packages (from typer<1.0,>=0.12->gradio) (1.5.4)\n",
            "Requirement already satisfied: rich>=10.11.0 in /usr/local/lib/python3.11/dist-packages (from typer<1.0,>=0.12->gradio) (13.9.4)\n",
            "Requirement already satisfied: six>=1.5 in /usr/local/lib/python3.11/dist-packages (from python-dateutil>=2.8.2->pandas<3.0,>=1.0->gradio) (1.17.0)\n",
            "Requirement already satisfied: markdown-it-py>=2.2.0 in /usr/local/lib/python3.11/dist-packages (from rich>=10.11.0->typer<1.0,>=0.12->gradio) (3.0.0)\n",
            "Requirement already satisfied: pygments<3.0.0,>=2.13.0 in /usr/local/lib/python3.11/dist-packages (from rich>=10.11.0->typer<1.0,>=0.12->gradio) (2.19.1)\n",
            "Requirement already satisfied: charset-normalizer<4,>=2 in /usr/local/lib/python3.11/dist-packages (from requests->huggingface-hub>=0.28.1->gradio) (3.4.2)\n",
            "Requirement already satisfied: urllib3<3,>=1.21.1 in /usr/local/lib/python3.11/dist-packages (from requests->huggingface-hub>=0.28.1->gradio) (2.4.0)\n",
            "Requirement already satisfied: mdurl~=0.1 in /usr/local/lib/python3.11/dist-packages (from markdown-it-py>=2.2.0->rich>=10.11.0->typer<1.0,>=0.12->gradio) (0.1.2)\n",
            "Downloading gradio-5.33.1-py3-none-any.whl (54.2 MB)\n",
            "\u001b[2K   \u001b[90m━━━━━━━━━━━━━━━━━━━━━━━━━━━━━━━━━━━━━━━━\u001b[0m \u001b[32m54.2/54.2 MB\u001b[0m \u001b[31m19.7 MB/s\u001b[0m eta \u001b[36m0:00:00\u001b[0m\n",
            "\u001b[?25hDownloading gradio_client-1.10.3-py3-none-any.whl (323 kB)\n",
            "\u001b[2K   \u001b[90m━━━━━━━━━━━━━━━━━━━━━━━━━━━━━━━━━━━━━━━━\u001b[0m \u001b[32m323.6/323.6 kB\u001b[0m \u001b[31m17.8 MB/s\u001b[0m eta \u001b[36m0:00:00\u001b[0m\n",
            "\u001b[?25hInstalling collected packages: gradio-client, gradio\n",
            "  Attempting uninstall: gradio-client\n",
            "    Found existing installation: gradio_client 1.10.1\n",
            "    Uninstalling gradio_client-1.10.1:\n",
            "      Successfully uninstalled gradio_client-1.10.1\n",
            "  Attempting uninstall: gradio\n",
            "    Found existing installation: gradio 5.31.0\n",
            "    Uninstalling gradio-5.31.0:\n",
            "      Successfully uninstalled gradio-5.31.0\n",
            "Successfully installed gradio-5.33.1 gradio-client-1.10.3\n"
          ]
        }
      ],
      "source": [
        "!pip install PyPDF2 docx openai pandas numpy\n",
        "!pip install --upgrade gradio"
      ]
    },
    {
      "cell_type": "code",
      "execution_count": 2,
      "metadata": {
        "colab": {
          "base_uri": "https://localhost:8080/"
        },
        "id": "Goiy0wA0vsV2",
        "outputId": "cbf5fd88-3ab1-4c00-d040-b37243dffd1f"
      },
      "outputs": [
        {
          "name": "stdout",
          "output_type": "stream",
          "text": [
            "5.33.1\n"
          ]
        }
      ],
      "source": [
        "import gradio as gr\n",
        "print(gr.__version__)"
      ]
    },
    {
      "cell_type": "markdown",
      "metadata": {
        "id": "RrxVuFA8KEnG"
      },
      "source": [
        "# **2. Definición de Corpus**"
      ]
    },
    {
      "cell_type": "code",
      "execution_count": 3,
      "metadata": {
        "id": "UXcut8iEaIr7"
      },
      "outputs": [],
      "source": [
        "import os\n",
        "from PyPDF2 import PdfReader\n",
        "\n",
        "def read_corpus_from_files(root_path: str) -> list[dict[str, str]]:\n",
        "    corpus: list[dict[str, str]] = []\n",
        "    for filename in os.listdir(root_path):\n",
        "        path = os.path.join(root_path, filename)\n",
        "        if filename.lower().endswith('.pdf'):\n",
        "          try:\n",
        "            reader = PdfReader(path)\n",
        "            text = \"\\n\".join(p.extract_text() or '' for p in reader.pages)\n",
        "            corpus.append({'title': filename, 'content': text})\n",
        "          except Exception as e:\n",
        "            print(f\"Error leyendo PDF {filename}: {e}\")\n",
        "        elif filename.lower().endswith('.src'):\n",
        "            with open(path, 'r', encoding='utf-8') as f:\n",
        "              corpus.append({'title': filename, 'content': f.read()})\n",
        "    return corpus"
      ]
    },
    {
      "cell_type": "code",
      "execution_count": 5,
      "metadata": {
        "id": "-iPsAlo4KIX9"
      },
      "outputs": [],
      "source": [
        "raw_corpus = read_corpus_from_files(\"corpus_data\")\n",
        "if not raw_corpus:\n",
        "    raise ValueError(\"No se encontró archivos .pdf, .docx, .txt o .src en la carpeta indicada\")"
      ]
    },
    {
      "cell_type": "code",
      "execution_count": 6,
      "metadata": {
        "colab": {
          "base_uri": "https://localhost:8080/"
        },
        "id": "8LiX8cV2jRka",
        "outputId": "4ef8b375-1fef-47c9-ba7f-2d12768e7dda"
      },
      "outputs": [
        {
          "data": {
            "text/plain": [
              "1"
            ]
          },
          "execution_count": 6,
          "metadata": {},
          "output_type": "execute_result"
        }
      ],
      "source": [
        "len(raw_corpus)"
      ]
    },
    {
      "cell_type": "code",
      "execution_count": 8,
      "metadata": {
        "colab": {
          "base_uri": "https://localhost:8080/",
          "height": 89
        },
        "id": "sp7h_QmGlznp",
        "outputId": "770492f7-f032-4ca3-abfb-cb2b5c0dd29f"
      },
      "outputs": [
        {
          "data": {
            "application/vnd.google.colaboratory.intrinsic+json": {
              "summary": "{\n  \"name\": \"df\",\n  \"rows\": 1,\n  \"fields\": [\n    {\n      \"column\": \"title\",\n      \"properties\": {\n        \"dtype\": \"string\",\n        \"num_unique_values\": 1,\n        \"samples\": [\n          \"examples.src\"\n        ],\n        \"semantic_type\": \"\",\n        \"description\": \"\"\n      }\n    },\n    {\n      \"column\": \"content\",\n      \"properties\": {\n        \"dtype\": \"string\",\n        \"num_unique_values\": 1,\n        \"samples\": [\n          \"-- Reglas generales:\\n-- 0. Todo se basa en la gu\\u00eda de programaci\\u00f3n: programming-guide-irite.pdf\\n-- 1. Los nombres de variables globales deben ser en mayusculas con guiones bajos\\n-- 2. Los nombres de tipos, funciones, procedimientos deben ser en PascalCase\\n-- 4. Los nombres de variables no son case sensitive,\\n-- por lo que definir una variable con el mismo nombre del tipo generar\\u00e1 un error\\n-- 5. Las funciones de llamado a la base de datos est\\u00e1n definidos en la gu\\u00eda de programaci\\u00f3n\\n-- 6. Los nombres de funciones deben ser \\u00fanicos ya que se compilan en un solo archivo\\n-- 7. Las variables locales se definen con el prefijo l (unico caso sobre se usa camelCase)\\n\\n--Nombre de archivo: Variables.iri\\nMSJ_GEN_SAVE_OK : string := \\\"Se Grab\\u00f3 Correctamente\\\";\\nMSJ_GEN_SAVE_XID : string := \\\"No se pudo Obtener ID\\\";\\nMSJ_GEN_SAVE_XER : string := \\\"No se pudo Grabar\\\";\\n\\n-- Nombre de archivo: Entity.iri\\n-- Las entidades se manejan como tipos\\n-- el tipo es un record y se especifica las propiedades del tipo\\n-- La nomenclatura es PascalCase\\n-- type solo declara el tipo, no instancia\\n-- No se permite variables genericas, \\n-- por lo que si se requiere un mismo objeto con una propiedad disinta\\n-- se debe declarar un nuevo tipo (caso ResponseXXX)\\n-- Tampoco tiene herencia\\ntype Producto is record\\n    Id: integer;\\n    Name: string;\\n    IsActive: booleantype;\\nend record;\\n\\ntype Config is record\\n    Empresa: string;\\n    Ruc: string;\\n    Direccion: string;\\nend record;\\n\\ntype ResponseInt is record\\n    Success : booleantype;\\n    Data    : integer;\\n    Message : string;\\nend record;\\n\\ntype ResponseStr is record\\n    Success : booleantype;\\n    Data    : string;\\n    Message : string;\\nend record;\\n\\n-- Nombre de archivo: Data.iri\\n-- Las funciones y procedimientos se declaran como en Pascal\\n-- La base de datos es SQLite por lo que se debe respetar la sintaxis\\nfunction Especie_NuevoId : integer;\\nlSQL    : string;\\nlCode   : SysCode;\\nlCon    : integer;\\nlId     : integer;\\nbegin\\n    lSQL:=\\\"SELECT IFNULL(MAX(ID),0)+1 FROM ESPECIE\\\";\\n    lCode:=DbExec(lSQL, lCon);\\n    \\n    if (lCode = SysOk) then\\n      lId:= -1;\\n    elsif (lCon < 1) then\\n      lId:= 0;\\n    else\\n      DBColumnInt(lCon,1,lId);\\n    end if;\\n\\n    DbFinalize(lCon);\\n    return lId;\\nend;\\n\\nfunction DAEspecie_Add(Request : Especie) : ResponseStr;\\nlSQL    : string;\\nlCon    : integer;\\nlCode   : SysCode;\\nlResponse  : ResponseStr;\\nbegin\\n    lSQL:=\\\"INSERT INTO ESPECIE (ID,CODIGO,DESCRIP)VALUES(\\\"+IntegerToString(Request.id,0)+\\\",'\\\"+Request.codigo+\\\"','\\\"+Request.descrip+\\\"')\\\";\\n    lCode:=DbExec(lSQL,lCon);\\n    if(lCode = SysOk)then\\n        lResponse.success:=booltrue;\\n        lResponse.message:=MSJ_GEN_SAVE_OK;\\n    else\\n        lResponse.success:=boolfalse;\\n        lResponse.message:=MSJ_GEN_SAVE_XER;\\n    end if;\\n    DbFinalize(lCon);\\n    return lResponse;\\nend;\\n\\n--Nombre de archivo: Business.iri\\nfunction BREspecie_Add(Request : Especie) : ResponseStr;\\nlID : integer;\\nlResponseStr : ResponseStr;\\nbegin\\n    lID:=Especie_NuevoID;\\n    if(lID>0)then\\n        Request.id:=lID;\\n        ResponseStr:=DAEspecie_Add(Request);\\n    else\\n        ResponseStr.success:=boolfalse;\\n        ResponseStr.message:= MSJ_GEN_SAVE_XID;\\n    end if;\\n    return ResponseStr;\\nend;\\n\\n--Nombre de archivo: ProgramaDemo.src\\n-- Ejeplo de un programa base\\n-- Al inicio se declaran las variables globales\\n-- Luego se declaran los includes de los archivos .iri\\n-- Toda importaci\\u00f3n de archivos debe ser en orden ya que la compilaci\\u00f3n genera un solo archivo\\nprogram ProgramaDemo;\\n#include Variables.iri\\n#include Entity.iri\\n#include Data.iri\\n#include Business.iri\\n\\n-- Este Handler es un evento que se ejecuta cuando se toca un widget\\n-- Existen muchos Handlers los cuales est\\u00e1n definidos en la gu\\u00eda de programaci\\u00f3n\\nhandler WidgetClicked;\\nlResponse : ResponseStr;\\nlEspecie  : Especie;\\nbegin\\n    -- EventWidget es una variable global que contiene el widget que se toc\\u00f3\\n    -- Esta variables es del sistema y no se debe declarar\\n    -- Los widgets se generan en el dise\\u00f1ador de la aplicaci\\u00f3n, el dise\\u00f1ador exporta\\n    -- un archivo .iri que contiene los widgets y sus propiedades\\n    -- El nombre del widget es el mismo que se define en el dise\\u00f1ador\\n    if(EventWidget=lbl1)then\\n        lEspecie.codigo:=\\\"0002\\\";\\n        lEspecie.descrip:=\\\"NUEVA ESPECIE\\\";\\n        lResponse:=BREspecie_Add(lEspecie);\\n        DisplayStatus(lResponse.message);\\n    end if;\\nend;\\n\\nprocedure MiProcedimiento(valor1: integer; valor2: string);\\nsuma: integer;\\nbegin\\n    suma := valor1 + valor2;\\n    DisplayStatus(\\\"La suma es: \\\" + IntegerToString(suma, 0));\\nend;\\n\\nbegin\\n    DisplayStatus(\\\"Bienvenidos\\\");\\nend ProgramaDemo;\"\n        ],\n        \"semantic_type\": \"\",\n        \"description\": \"\"\n      }\n    }\n  ]\n}",
              "type": "dataframe",
              "variable_name": "df"
            },
            "text/html": [
              "\n",
              "  <div id=\"df-4a72eb84-4ba1-4b25-a9d0-d8fc6b31958d\" class=\"colab-df-container\">\n",
              "    <div>\n",
              "<style scoped>\n",
              "    .dataframe tbody tr th:only-of-type {\n",
              "        vertical-align: middle;\n",
              "    }\n",
              "\n",
              "    .dataframe tbody tr th {\n",
              "        vertical-align: top;\n",
              "    }\n",
              "\n",
              "    .dataframe thead th {\n",
              "        text-align: right;\n",
              "    }\n",
              "</style>\n",
              "<table border=\"1\" class=\"dataframe\">\n",
              "  <thead>\n",
              "    <tr style=\"text-align: right;\">\n",
              "      <th></th>\n",
              "      <th>title</th>\n",
              "      <th>content</th>\n",
              "    </tr>\n",
              "  </thead>\n",
              "  <tbody>\n",
              "    <tr>\n",
              "      <th>0</th>\n",
              "      <td>examples.src</td>\n",
              "      <td>-- Reglas generales:\\n-- 0. Todo se basa en la...</td>\n",
              "    </tr>\n",
              "  </tbody>\n",
              "</table>\n",
              "</div>\n",
              "    <div class=\"colab-df-buttons\">\n",
              "\n",
              "  <div class=\"colab-df-container\">\n",
              "    <button class=\"colab-df-convert\" onclick=\"convertToInteractive('df-4a72eb84-4ba1-4b25-a9d0-d8fc6b31958d')\"\n",
              "            title=\"Convert this dataframe to an interactive table.\"\n",
              "            style=\"display:none;\">\n",
              "\n",
              "  <svg xmlns=\"http://www.w3.org/2000/svg\" height=\"24px\" viewBox=\"0 -960 960 960\">\n",
              "    <path d=\"M120-120v-720h720v720H120Zm60-500h600v-160H180v160Zm220 220h160v-160H400v160Zm0 220h160v-160H400v160ZM180-400h160v-160H180v160Zm440 0h160v-160H620v160ZM180-180h160v-160H180v160Zm440 0h160v-160H620v160Z\"/>\n",
              "  </svg>\n",
              "    </button>\n",
              "\n",
              "  <style>\n",
              "    .colab-df-container {\n",
              "      display:flex;\n",
              "      gap: 12px;\n",
              "    }\n",
              "\n",
              "    .colab-df-convert {\n",
              "      background-color: #E8F0FE;\n",
              "      border: none;\n",
              "      border-radius: 50%;\n",
              "      cursor: pointer;\n",
              "      display: none;\n",
              "      fill: #1967D2;\n",
              "      height: 32px;\n",
              "      padding: 0 0 0 0;\n",
              "      width: 32px;\n",
              "    }\n",
              "\n",
              "    .colab-df-convert:hover {\n",
              "      background-color: #E2EBFA;\n",
              "      box-shadow: 0px 1px 2px rgba(60, 64, 67, 0.3), 0px 1px 3px 1px rgba(60, 64, 67, 0.15);\n",
              "      fill: #174EA6;\n",
              "    }\n",
              "\n",
              "    .colab-df-buttons div {\n",
              "      margin-bottom: 4px;\n",
              "    }\n",
              "\n",
              "    [theme=dark] .colab-df-convert {\n",
              "      background-color: #3B4455;\n",
              "      fill: #D2E3FC;\n",
              "    }\n",
              "\n",
              "    [theme=dark] .colab-df-convert:hover {\n",
              "      background-color: #434B5C;\n",
              "      box-shadow: 0px 1px 3px 1px rgba(0, 0, 0, 0.15);\n",
              "      filter: drop-shadow(0px 1px 2px rgba(0, 0, 0, 0.3));\n",
              "      fill: #FFFFFF;\n",
              "    }\n",
              "  </style>\n",
              "\n",
              "    <script>\n",
              "      const buttonEl =\n",
              "        document.querySelector('#df-4a72eb84-4ba1-4b25-a9d0-d8fc6b31958d button.colab-df-convert');\n",
              "      buttonEl.style.display =\n",
              "        google.colab.kernel.accessAllowed ? 'block' : 'none';\n",
              "\n",
              "      async function convertToInteractive(key) {\n",
              "        const element = document.querySelector('#df-4a72eb84-4ba1-4b25-a9d0-d8fc6b31958d');\n",
              "        const dataTable =\n",
              "          await google.colab.kernel.invokeFunction('convertToInteractive',\n",
              "                                                    [key], {});\n",
              "        if (!dataTable) return;\n",
              "\n",
              "        const docLinkHtml = 'Like what you see? Visit the ' +\n",
              "          '<a target=\"_blank\" href=https://colab.research.google.com/notebooks/data_table.ipynb>data table notebook</a>'\n",
              "          + ' to learn more about interactive tables.';\n",
              "        element.innerHTML = '';\n",
              "        dataTable['output_type'] = 'display_data';\n",
              "        await google.colab.output.renderOutput(dataTable, element);\n",
              "        const docLink = document.createElement('div');\n",
              "        docLink.innerHTML = docLinkHtml;\n",
              "        element.appendChild(docLink);\n",
              "      }\n",
              "    </script>\n",
              "  </div>\n",
              "\n",
              "\n",
              "  <div id=\"id_b99fd0ec-4be4-4c8a-b8df-29c4636c3b28\">\n",
              "    <style>\n",
              "      .colab-df-generate {\n",
              "        background-color: #E8F0FE;\n",
              "        border: none;\n",
              "        border-radius: 50%;\n",
              "        cursor: pointer;\n",
              "        display: none;\n",
              "        fill: #1967D2;\n",
              "        height: 32px;\n",
              "        padding: 0 0 0 0;\n",
              "        width: 32px;\n",
              "      }\n",
              "\n",
              "      .colab-df-generate:hover {\n",
              "        background-color: #E2EBFA;\n",
              "        box-shadow: 0px 1px 2px rgba(60, 64, 67, 0.3), 0px 1px 3px 1px rgba(60, 64, 67, 0.15);\n",
              "        fill: #174EA6;\n",
              "      }\n",
              "\n",
              "      [theme=dark] .colab-df-generate {\n",
              "        background-color: #3B4455;\n",
              "        fill: #D2E3FC;\n",
              "      }\n",
              "\n",
              "      [theme=dark] .colab-df-generate:hover {\n",
              "        background-color: #434B5C;\n",
              "        box-shadow: 0px 1px 3px 1px rgba(0, 0, 0, 0.15);\n",
              "        filter: drop-shadow(0px 1px 2px rgba(0, 0, 0, 0.3));\n",
              "        fill: #FFFFFF;\n",
              "      }\n",
              "    </style>\n",
              "    <button class=\"colab-df-generate\" onclick=\"generateWithVariable('df')\"\n",
              "            title=\"Generate code using this dataframe.\"\n",
              "            style=\"display:none;\">\n",
              "\n",
              "  <svg xmlns=\"http://www.w3.org/2000/svg\" height=\"24px\"viewBox=\"0 0 24 24\"\n",
              "       width=\"24px\">\n",
              "    <path d=\"M7,19H8.4L18.45,9,17,7.55,7,17.6ZM5,21V16.75L18.45,3.32a2,2,0,0,1,2.83,0l1.4,1.43a1.91,1.91,0,0,1,.58,1.4,1.91,1.91,0,0,1-.58,1.4L9.25,21ZM18.45,9,17,7.55Zm-12,3A5.31,5.31,0,0,0,4.9,8.1,5.31,5.31,0,0,0,1,6.5,5.31,5.31,0,0,0,4.9,4.9,5.31,5.31,0,0,0,6.5,1,5.31,5.31,0,0,0,8.1,4.9,5.31,5.31,0,0,0,12,6.5,5.46,5.46,0,0,0,6.5,12Z\"/>\n",
              "  </svg>\n",
              "    </button>\n",
              "    <script>\n",
              "      (() => {\n",
              "      const buttonEl =\n",
              "        document.querySelector('#id_b99fd0ec-4be4-4c8a-b8df-29c4636c3b28 button.colab-df-generate');\n",
              "      buttonEl.style.display =\n",
              "        google.colab.kernel.accessAllowed ? 'block' : 'none';\n",
              "\n",
              "      buttonEl.onclick = () => {\n",
              "        google.colab.notebook.generateWithVariable('df');\n",
              "      }\n",
              "      })();\n",
              "    </script>\n",
              "  </div>\n",
              "\n",
              "    </div>\n",
              "  </div>\n"
            ],
            "text/plain": [
              "          title                                            content\n",
              "0  examples.src  -- Reglas generales:\\n-- 0. Todo se basa en la..."
            ]
          },
          "execution_count": 8,
          "metadata": {},
          "output_type": "execute_result"
        }
      ],
      "source": [
        "# Creamos el DataFrame\n",
        "import pandas as pd\n",
        "df = pd.DataFrame(raw_corpus)\n",
        "df"
      ]
    },
    {
      "cell_type": "markdown",
      "metadata": {
        "id": "BdEqsIfuLjmX"
      },
      "source": []
    },
    {
      "cell_type": "markdown",
      "metadata": {
        "id": "qsIYQYQVKH5I"
      },
      "source": [
        "# **3. Función de Embedding**"
      ]
    },
    {
      "cell_type": "code",
      "execution_count": 9,
      "metadata": {
        "colab": {
          "base_uri": "https://localhost:8080/",
          "height": 81
        },
        "id": "P6aPa0kmKQuS",
        "outputId": "41bf4256-cb48-4cb2-d58b-909d8d2400bb"
      },
      "outputs": [
        {
          "data": {
            "application/vnd.google.colaboratory.intrinsic+json": {
              "summary": "{\n  \"name\": \"df\",\n  \"rows\": 1,\n  \"fields\": [\n    {\n      \"column\": \"title\",\n      \"properties\": {\n        \"dtype\": \"string\",\n        \"num_unique_values\": 1,\n        \"samples\": [\n          \"examples.src\"\n        ],\n        \"semantic_type\": \"\",\n        \"description\": \"\"\n      }\n    },\n    {\n      \"column\": \"content\",\n      \"properties\": {\n        \"dtype\": \"string\",\n        \"num_unique_values\": 1,\n        \"samples\": [\n          \"-- Reglas generales:\\n-- 0. Todo se basa en la gu\\u00eda de programaci\\u00f3n: programming-guide-irite.pdf\\n-- 1. Los nombres de variables globales deben ser en mayusculas con guiones bajos\\n-- 2. Los nombres de tipos, funciones, procedimientos deben ser en PascalCase\\n-- 4. Los nombres de variables no son case sensitive,\\n-- por lo que definir una variable con el mismo nombre del tipo generar\\u00e1 un error\\n-- 5. Las funciones de llamado a la base de datos est\\u00e1n definidos en la gu\\u00eda de programaci\\u00f3n\\n-- 6. Los nombres de funciones deben ser \\u00fanicos ya que se compilan en un solo archivo\\n-- 7. Las variables locales se definen con el prefijo l (unico caso sobre se usa camelCase)\\n\\n--Nombre de archivo: Variables.iri\\nMSJ_GEN_SAVE_OK : string := \\\"Se Grab\\u00f3 Correctamente\\\";\\nMSJ_GEN_SAVE_XID : string := \\\"No se pudo Obtener ID\\\";\\nMSJ_GEN_SAVE_XER : string := \\\"No se pudo Grabar\\\";\\n\\n-- Nombre de archivo: Entity.iri\\n-- Las entidades se manejan como tipos\\n-- el tipo es un record y se especifica las propiedades del tipo\\n-- La nomenclatura es PascalCase\\n-- type solo declara el tipo, no instancia\\n-- No se permite variables genericas, \\n-- por lo que si se requiere un mismo objeto con una propiedad disinta\\n-- se debe declarar un nuevo tipo (caso ResponseXXX)\\n-- Tampoco tiene herencia\\ntype Producto is record\\n    Id: integer;\\n    Name: string;\\n    IsActive: booleantype;\\nend record;\\n\\ntype Config is record\\n    Empresa: string;\\n    Ruc: string;\\n    Direccion: string;\\nend record;\\n\\ntype ResponseInt is record\\n    Success : booleantype;\\n    Data    : integer;\\n    Message : string;\\nend record;\\n\\ntype ResponseStr is record\\n    Success : booleantype;\\n    Data    : string;\\n    Message : string;\\nend record;\\n\\n-- Nombre de archivo: Data.iri\\n-- Las funciones y procedimientos se declaran como en Pascal\\n-- La base de datos es SQLite por lo que se debe respetar la sintaxis\\nfunction Especie_NuevoId : integer;\\nlSQL    : string;\\nlCode   : SysCode;\\nlCon    : integer;\\nlId     : integer;\\nbegin\\n    lSQL:=\\\"SELECT IFNULL(MAX(ID),0)+1 FROM ESPECIE\\\";\\n    lCode:=DbExec(lSQL, lCon);\\n    \\n    if (lCode = SysOk) then\\n      lId:= -1;\\n    elsif (lCon < 1) then\\n      lId:= 0;\\n    else\\n      DBColumnInt(lCon,1,lId);\\n    end if;\\n\\n    DbFinalize(lCon);\\n    return lId;\\nend;\\n\\nfunction DAEspecie_Add(Request : Especie) : ResponseStr;\\nlSQL    : string;\\nlCon    : integer;\\nlCode   : SysCode;\\nlResponse  : ResponseStr;\\nbegin\\n    lSQL:=\\\"INSERT INTO ESPECIE (ID,CODIGO,DESCRIP)VALUES(\\\"+IntegerToString(Request.id,0)+\\\",'\\\"+Request.codigo+\\\"','\\\"+Request.descrip+\\\"')\\\";\\n    lCode:=DbExec(lSQL,lCon);\\n    if(lCode = SysOk)then\\n        lResponse.success:=booltrue;\\n        lResponse.message:=MSJ_GEN_SAVE_OK;\\n    else\\n        lResponse.success:=boolfalse;\\n        lResponse.message:=MSJ_GEN_SAVE_XER;\\n    end if;\\n    DbFinalize(lCon);\\n    return lResponse;\\nend;\\n\\n--Nombre de archivo: Business.iri\\nfunction BREspecie_Add(Request : Especie) : ResponseStr;\\nlID : integer;\\nlResponseStr : ResponseStr;\\nbegin\\n    lID:=Especie_NuevoID;\\n    if(lID>0)then\\n        Request.id:=lID;\\n        ResponseStr:=DAEspecie_Add(Request);\\n    else\\n        ResponseStr.success:=boolfalse;\\n        ResponseStr.message:= MSJ_GEN_SAVE_XID;\\n    end if;\\n    return ResponseStr;\\nend;\\n\\n--Nombre de archivo: ProgramaDemo.src\\n-- Ejeplo de un programa base\\n-- Al inicio se declaran las variables globales\\n-- Luego se declaran los includes de los archivos .iri\\n-- Toda importaci\\u00f3n de archivos debe ser en orden ya que la compilaci\\u00f3n genera un solo archivo\\nprogram ProgramaDemo;\\n#include Variables.iri\\n#include Entity.iri\\n#include Data.iri\\n#include Business.iri\\n\\n-- Este Handler es un evento que se ejecuta cuando se toca un widget\\n-- Existen muchos Handlers los cuales est\\u00e1n definidos en la gu\\u00eda de programaci\\u00f3n\\nhandler WidgetClicked;\\nlResponse : ResponseStr;\\nlEspecie  : Especie;\\nbegin\\n    -- EventWidget es una variable global que contiene el widget que se toc\\u00f3\\n    -- Esta variables es del sistema y no se debe declarar\\n    -- Los widgets se generan en el dise\\u00f1ador de la aplicaci\\u00f3n, el dise\\u00f1ador exporta\\n    -- un archivo .iri que contiene los widgets y sus propiedades\\n    -- El nombre del widget es el mismo que se define en el dise\\u00f1ador\\n    if(EventWidget=lbl1)then\\n        lEspecie.codigo:=\\\"0002\\\";\\n        lEspecie.descrip:=\\\"NUEVA ESPECIE\\\";\\n        lResponse:=BREspecie_Add(lEspecie);\\n        DisplayStatus(lResponse.message);\\n    end if;\\nend;\\n\\nprocedure MiProcedimiento(valor1: integer; valor2: string);\\nsuma: integer;\\nbegin\\n    suma := valor1 + valor2;\\n    DisplayStatus(\\\"La suma es: \\\" + IntegerToString(suma, 0));\\nend;\\n\\nbegin\\n    DisplayStatus(\\\"Bienvenidos\\\");\\nend ProgramaDemo;\"\n        ],\n        \"semantic_type\": \"\",\n        \"description\": \"\"\n      }\n    },\n    {\n      \"column\": \"embedding\",\n      \"properties\": {\n        \"dtype\": \"object\",\n        \"semantic_type\": \"\",\n        \"description\": \"\"\n      }\n    }\n  ]\n}",
              "type": "dataframe",
              "variable_name": "df"
            },
            "text/html": [
              "\n",
              "  <div id=\"df-b483ef44-febf-4544-a5e0-4cb1ed7de057\" class=\"colab-df-container\">\n",
              "    <div>\n",
              "<style scoped>\n",
              "    .dataframe tbody tr th:only-of-type {\n",
              "        vertical-align: middle;\n",
              "    }\n",
              "\n",
              "    .dataframe tbody tr th {\n",
              "        vertical-align: top;\n",
              "    }\n",
              "\n",
              "    .dataframe thead th {\n",
              "        text-align: right;\n",
              "    }\n",
              "</style>\n",
              "<table border=\"1\" class=\"dataframe\">\n",
              "  <thead>\n",
              "    <tr style=\"text-align: right;\">\n",
              "      <th></th>\n",
              "      <th>title</th>\n",
              "      <th>content</th>\n",
              "      <th>embedding</th>\n",
              "    </tr>\n",
              "  </thead>\n",
              "  <tbody>\n",
              "    <tr>\n",
              "      <th>0</th>\n",
              "      <td>examples.src</td>\n",
              "      <td>-- Reglas generales:\\n-- 0. Todo se basa en la...</td>\n",
              "      <td>[-0.02203100360929966, -1.3361195669858716e-05...</td>\n",
              "    </tr>\n",
              "  </tbody>\n",
              "</table>\n",
              "</div>\n",
              "    <div class=\"colab-df-buttons\">\n",
              "\n",
              "  <div class=\"colab-df-container\">\n",
              "    <button class=\"colab-df-convert\" onclick=\"convertToInteractive('df-b483ef44-febf-4544-a5e0-4cb1ed7de057')\"\n",
              "            title=\"Convert this dataframe to an interactive table.\"\n",
              "            style=\"display:none;\">\n",
              "\n",
              "  <svg xmlns=\"http://www.w3.org/2000/svg\" height=\"24px\" viewBox=\"0 -960 960 960\">\n",
              "    <path d=\"M120-120v-720h720v720H120Zm60-500h600v-160H180v160Zm220 220h160v-160H400v160Zm0 220h160v-160H400v160ZM180-400h160v-160H180v160Zm440 0h160v-160H620v160ZM180-180h160v-160H180v160Zm440 0h160v-160H620v160Z\"/>\n",
              "  </svg>\n",
              "    </button>\n",
              "\n",
              "  <style>\n",
              "    .colab-df-container {\n",
              "      display:flex;\n",
              "      gap: 12px;\n",
              "    }\n",
              "\n",
              "    .colab-df-convert {\n",
              "      background-color: #E8F0FE;\n",
              "      border: none;\n",
              "      border-radius: 50%;\n",
              "      cursor: pointer;\n",
              "      display: none;\n",
              "      fill: #1967D2;\n",
              "      height: 32px;\n",
              "      padding: 0 0 0 0;\n",
              "      width: 32px;\n",
              "    }\n",
              "\n",
              "    .colab-df-convert:hover {\n",
              "      background-color: #E2EBFA;\n",
              "      box-shadow: 0px 1px 2px rgba(60, 64, 67, 0.3), 0px 1px 3px 1px rgba(60, 64, 67, 0.15);\n",
              "      fill: #174EA6;\n",
              "    }\n",
              "\n",
              "    .colab-df-buttons div {\n",
              "      margin-bottom: 4px;\n",
              "    }\n",
              "\n",
              "    [theme=dark] .colab-df-convert {\n",
              "      background-color: #3B4455;\n",
              "      fill: #D2E3FC;\n",
              "    }\n",
              "\n",
              "    [theme=dark] .colab-df-convert:hover {\n",
              "      background-color: #434B5C;\n",
              "      box-shadow: 0px 1px 3px 1px rgba(0, 0, 0, 0.15);\n",
              "      filter: drop-shadow(0px 1px 2px rgba(0, 0, 0, 0.3));\n",
              "      fill: #FFFFFF;\n",
              "    }\n",
              "  </style>\n",
              "\n",
              "    <script>\n",
              "      const buttonEl =\n",
              "        document.querySelector('#df-b483ef44-febf-4544-a5e0-4cb1ed7de057 button.colab-df-convert');\n",
              "      buttonEl.style.display =\n",
              "        google.colab.kernel.accessAllowed ? 'block' : 'none';\n",
              "\n",
              "      async function convertToInteractive(key) {\n",
              "        const element = document.querySelector('#df-b483ef44-febf-4544-a5e0-4cb1ed7de057');\n",
              "        const dataTable =\n",
              "          await google.colab.kernel.invokeFunction('convertToInteractive',\n",
              "                                                    [key], {});\n",
              "        if (!dataTable) return;\n",
              "\n",
              "        const docLinkHtml = 'Like what you see? Visit the ' +\n",
              "          '<a target=\"_blank\" href=https://colab.research.google.com/notebooks/data_table.ipynb>data table notebook</a>'\n",
              "          + ' to learn more about interactive tables.';\n",
              "        element.innerHTML = '';\n",
              "        dataTable['output_type'] = 'display_data';\n",
              "        await google.colab.output.renderOutput(dataTable, element);\n",
              "        const docLink = document.createElement('div');\n",
              "        docLink.innerHTML = docLinkHtml;\n",
              "        element.appendChild(docLink);\n",
              "      }\n",
              "    </script>\n",
              "  </div>\n",
              "\n",
              "\n",
              "    </div>\n",
              "  </div>\n"
            ],
            "text/plain": [
              "          title                                            content  \\\n",
              "0  examples.src  -- Reglas generales:\\n-- 0. Todo se basa en la...   \n",
              "\n",
              "                                           embedding  \n",
              "0  [-0.02203100360929966, -1.3361195669858716e-05...  "
            ]
          },
          "execution_count": 9,
          "metadata": {},
          "output_type": "execute_result"
        }
      ],
      "source": [
        "from google.colab import userdata\n",
        "import numpy as np\n",
        "import openai\n",
        "\n",
        "openai.api_key = userdata.get('openapikey')\n",
        "\n",
        "def embed_text(text: str) -> np.ndarray:\n",
        "    resp = openai.embeddings.create(\n",
        "        model=\"text-embedding-3-large\",\n",
        "        input=text\n",
        "    )\n",
        "    return np.array(resp.data[0].embedding)\n",
        "\n",
        "df['embedding'] = df['content'].apply(embed_text)\n",
        "df.head()"
      ]
    },
    {
      "cell_type": "markdown",
      "metadata": {
        "id": "VQJFGohwKZv3"
      },
      "source": [
        "# **4. Obtención del documento mas relevante**"
      ]
    },
    {
      "cell_type": "code",
      "execution_count": 10,
      "metadata": {
        "id": "fd90TZ5zKv2Z"
      },
      "outputs": [],
      "source": [
        "def find_most_relevant(query: str, df: pd.DataFrame) -> str:\n",
        "    q_emb = embed_text(query)\n",
        "\n",
        "    scores = df[\"embedding\"].apply(lambda e: np.dot(e, q_emb))\n",
        "    idx = int(scores.idxmax())\n",
        "    return df.loc[idx, \"content\"]"
      ]
    },
    {
      "cell_type": "markdown",
      "metadata": {
        "id": "OmxHoAwTKzs0"
      },
      "source": [
        "# **5. Construcción del prompt y llamada LLM**"
      ]
    },
    {
      "cell_type": "code",
      "execution_count": 16,
      "metadata": {
        "id": "QVbl3DmtK20s"
      },
      "outputs": [],
      "source": [
        "import textwrap\n",
        "\n",
        "def make_prompt(question: str, context: str) -> str:\n",
        "    ctx = context.replace(\"\\n\", \" \")\n",
        "    return textwrap.dedent(f\"\"\"\n",
        "        Eres un asistente útil que responde basándose en el siguiente texto de referencia:\n",
        "        \\\"{ctx}\\\"\n",
        "\n",
        "        Pregunta: \\\"{question}\\\"\n",
        "\n",
        "        Responde de forma clara y completa.\n",
        "    \"\"\")\n",
        "\n",
        "def make_prompt_no_context(question: str) -> str:\n",
        "    return textwrap.dedent(f\"\"\"\n",
        "        Eres un asistente útil:\n",
        "        Pregunta: \\\"{question}\\\"\n",
        "        Responde de forma clara y completa.\n",
        "    \"\"\")\n",
        "\n",
        "def answer(chat_history, question: str) -> str:\n",
        "  passage = find_most_relevant(question, df)\n",
        "  prompt = make_prompt(question, passage)\n",
        "  resp = openai.chat.completions.create(\n",
        "    model=\"gpt-4o-mini\",\n",
        "    messages=[\n",
        "      {\"role\": \"system\", \"content\": \"Eres un asistente experto en programación 1280. Al responder basado en el texto de referencia no hace falta que menciones que traes la data de la referencia. Solo responde la pregunta\"},\n",
        "      {\"role\": \"user\", \"content\": prompt}\n",
        "    ],\n",
        "    temperature=0.2\n",
        "  )\n",
        "  chat_history = chat_history + [(question, resp.choices[0].message.content.strip())]\n",
        "  return chat_history, chat_history\n",
        "\n",
        "def answerWithNoContext(chat_history, question: str) -> str:\n",
        "  prompt = make_prompt_no_context(question)\n",
        "  resp = openai.chat.completions.create(\n",
        "    model=\"gpt-4o-mini\",\n",
        "    messages=[\n",
        "      {\"role\": \"system\", \"content\": \"Eres un asistente experto.\"},\n",
        "      {\"role\": \"user\", \"content\": prompt}\n",
        "    ],\n",
        "    temperature=0.2\n",
        "  )\n",
        "  chat_history = chat_history + [(question, resp.choices[0].message.content.strip())]\n",
        "  return chat_history, chat_history"
      ]
    },
    {
      "cell_type": "markdown",
      "metadata": {
        "id": "SU56BY-nLG9l"
      },
      "source": [
        "# **6. Interfaz de usuario**"
      ]
    },
    {
      "cell_type": "code",
      "execution_count": 17,
      "metadata": {
        "colab": {
          "base_uri": "https://localhost:8080/",
          "height": 715
        },
        "id": "4EhwyEsMLLut",
        "outputId": "d9df42f2-2e72-4428-fc48-c00d087063ac"
      },
      "outputs": [
        {
          "name": "stderr",
          "output_type": "stream",
          "text": [
            "<ipython-input-17-2118794348>:15: UserWarning: You have not specified a value for the `type` parameter. Defaulting to the 'tuples' format for chatbot messages, but this is deprecated and will be removed in a future version of Gradio. Please set type='messages' instead, which uses openai-style dictionaries with 'role' and 'content' keys.\n",
            "  out_rag = gr.Chatbot(label=\"Respuesta con RAG\")\n",
            "<ipython-input-17-2118794348>:25: UserWarning: You have not specified a value for the `type` parameter. Defaulting to the 'tuples' format for chatbot messages, but this is deprecated and will be removed in a future version of Gradio. Please set type='messages' instead, which uses openai-style dictionaries with 'role' and 'content' keys.\n",
            "  out_no = gr.Chatbot(label=\"Respuesta sin RAG\")\n"
          ]
        },
        {
          "name": "stdout",
          "output_type": "stream",
          "text": [
            "It looks like you are running Gradio on a hosted a Jupyter notebook. For the Gradio app to work, sharing must be enabled. Automatically setting `share=True` (you can turn this off by setting `share=False` in `launch()` explicitly).\n",
            "\n",
            "Colab notebook detected. To show errors in colab notebook, set debug=True in launch()\n",
            "* Running on public URL: https://a70debd1b9c98b9441.gradio.live\n",
            "\n",
            "This share link expires in 1 week. For free permanent hosting and GPU upgrades, run `gradio deploy` from the terminal in the working directory to deploy to Hugging Face Spaces (https://huggingface.co/spaces)\n"
          ]
        },
        {
          "data": {
            "text/html": [
              "<div><iframe src=\"https://a70debd1b9c98b9441.gradio.live\" width=\"100%\" height=\"500\" allow=\"autoplay; camera; microphone; clipboard-read; clipboard-write;\" frameborder=\"0\" allowfullscreen></iframe></div>"
            ],
            "text/plain": [
              "<IPython.core.display.HTML object>"
            ]
          },
          "metadata": {},
          "output_type": "display_data"
        },
        {
          "data": {
            "text/plain": []
          },
          "execution_count": 17,
          "metadata": {},
          "output_type": "execute_result"
        }
      ],
      "source": [
        "import gradio as gr\n",
        "\n",
        "with gr.Blocks(title=\"Asistente de Programación RiceLake 1280\") as demo:\n",
        "    gr.Markdown(\"## Asistente de Programación RiceLake 1280\\nRealiza tu consulta sobre programación 1280\")\n",
        "\n",
        "    txt = gr.Textbox(\n",
        "        lines=4,\n",
        "        placeholder=\"Escribe tu pregunta...\",\n",
        "        label=\"¿Que quieres saber?\"\n",
        "    )\n",
        "\n",
        "    with gr.Row():\n",
        "        with gr.Column():\n",
        "            btn_rag = gr.Button(\"Enviar usando RAG\")\n",
        "            out_rag = gr.Chatbot(label=\"Respuesta con RAG\")\n",
        "            state_rag = gr.State([])\n",
        "            btn_rag.click(\n",
        "                fn=answer,\n",
        "                inputs=[state_rag, txt],\n",
        "                outputs=[state_rag, out_rag],\n",
        "            )\n",
        "\n",
        "        with gr.Column():\n",
        "            btn_no = gr.Button(\"Enviar sin usar RAG\")\n",
        "            out_no = gr.Chatbot(label=\"Respuesta sin RAG\")\n",
        "            state_no = gr.State([])\n",
        "            btn_no.click(\n",
        "                fn=answerWithNoContext,\n",
        "                inputs=[state_no, txt],\n",
        "                outputs=[state_no, out_no],\n",
        "            )\n",
        "\n",
        "demo.launch()"
      ]
    },
    {
      "cell_type": "markdown",
      "metadata": {
        "id": "Kx-dZSFJz9cK"
      },
      "source": [
        "# **Conclusiones:**"
      ]
    },
    {
      "cell_type": "markdown",
      "metadata": {
        "id": "3w3usdaC0BCj"
      },
      "source": [
        "* #### **Incluyan sus conclusiones de la actividad chatbot LLM + RAG:**\n",
        "\n",
        "\n",
        "\n",
        "None"
      ]
    },
    {
      "cell_type": "markdown",
      "metadata": {
        "id": "CtB5Q3m41YQ0"
      },
      "source": [
        "# **Fin de la actividad chatbot: LLM + RAG**"
      ]
    }
  ],
  "metadata": {
    "colab": {
      "provenance": []
    },
    "kernelspec": {
      "display_name": "Python 3",
      "name": "python3"
    },
    "language_info": {
      "name": "python"
    }
  },
  "nbformat": 4,
  "nbformat_minor": 0
}
