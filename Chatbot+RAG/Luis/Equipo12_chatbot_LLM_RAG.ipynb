{
  "nbformat": 4,
  "nbformat_minor": 0,
  "metadata": {
    "colab": {
      "provenance": []
    },
    "kernelspec": {
      "name": "python3",
      "display_name": "Python 3"
    },
    "language_info": {
      "name": "python"
    }
  },
  "cells": [
    {
      "cell_type": "markdown",
      "source": [
        "# **Procesamiento de Lenguaje Natural**\n",
        "\n",
        "## Maestría en Inteligencia Artificial Aplicada\n",
        "#### Tecnológico de Monterrey\n",
        "#### Prof Luis Eduardo Falcón Morales\n",
        "\n",
        "### **Adtividad en Equipos: sistema LLM + RAG**"
      ],
      "metadata": {
        "id": "-hVND8xY2OKY"
      }
    },
    {
      "cell_type": "markdown",
      "source": [
        "* **Nombres y matrículas:**\n",
        "\n",
        "  * Fernando Omar Salazar Ortiz - A01796214\n",
        "  * Carlos Aaron Bocanegra Buitron - A01796345\n",
        "  * Luis Enrique González González - A01795338\n",
        "  * Gloria María Campos García - A01422345\n",
        "\n",
        "* **Número de Equipo: 12**\n"
      ],
      "metadata": {
        "id": "aimHVFOv23lm"
      }
    },
    {
      "cell_type": "markdown",
      "source": [
        "* ##### **El formato de este cuaderno de Jupyter es libre, pero debe incuir al menos las siguientes secciones:**\n",
        "\n",
        "  * ##### **Introducción de la problemática a resolver.**\n",
        "  * ##### **Sistema RAG + LLM**\n",
        "  * ##### **El chatbot, incluyendo ejemplos de prueba.**\n",
        "  * ##### **Conclusiones**\n",
        "\n",
        "* ##### **Pueden importar los paquetes o librerías que requieran.**\n",
        "\n",
        "* ##### **Pueden incluir las celdas y líneas de código que deseen.**"
      ],
      "metadata": {
        "id": "7jimvsiVgjMg"
      }
    },
    {
      "cell_type": "markdown",
      "metadata": {
        "id": "YICSNmjmfUvp"
      },
      "source": [
        "## 1. Introducción"
      ]
    },
    {
      "cell_type": "markdown",
      "metadata": {
        "id": "HvMNQBb0fUvp"
      },
      "source": [
        "El código desarrollado implementa un sistema de recuperación de información basado en **RAG** para responder preguntas sobre alimentación durante el embarazo, utilizando como fuente una guía alimentaria para mujeres embarazadas en formato PDF. Se extrae, procesa y almacena el contenido relevante, filtrando elementos complejos como tablas y ciertas secciones (pies de página) que no añaden valor. Posteriormente, se generan embeddings de los fragmentos de texto y se utiliza FAISS para realizar búsquedas semánticas rápidas. Al recibir una pregunta, el sistema recupera los fragmentos más relevantes y los emplea como contexto para generar respuestas precisas a través de un modelo de lenguaje de OpenAI.\n"
      ]
    },
    {
      "cell_type": "markdown",
      "metadata": {
        "id": "6w5EztQ-fUvq"
      },
      "source": [
        "- **Retrieval-Augmented Generation (RAG)**\n",
        "es un enfoque que combina la recuperación de información con modelos generativos de lenguaje para mejorar la precisión y relevancia de las respuestas generadas. En lugar de depender únicamente del conocimiento preentrenado de un modelo, RAG recupera fragmentos de texto relevantes de una fuente externa y los utiliza como contexto para generar respuestas más fundamentadas. Este método ha demostrado ser efectivo para reducir la generación de información errónea y mejorar la coherencia en tareas de procesamiento de lenguaje natural (Aytar et al., 2024).\n",
        "------\n",
        "- **Large Language Models (LLM)**\n",
        "son modelos de inteligencia artificial entrenados con grandes volúmenes de datos textuales para comprender y generar lenguaje natural de manera sofisticada. Estos modelos utilizan arquitecturas avanzadas de redes neuronales, como los transformadores, para procesar texto con alta precisión y generar respuestas contextualmente relevantes. Su aplicación abarca desde asistentes virtuales hasta generación de contenido y traducción automática (Naveed et al., 2024).\n",
        "------\n",
        "- **FAISS (Facebook AI Similarity Search)**\n",
        "es una biblioteca optimizada para la búsqueda eficiente de similitud entre vectores de alta dimensión. Se utiliza principalmente en aplicaciones de recuperación de información y aprendizaje automático para encontrar los elementos más similares dentro de grandes conjuntos de datos embebidos. FAISS emplea estructuras de índices avanzadas y técnicas de cuantización para acelerar las búsquedas, permitiendo realizar consultas en tiempo real con grandes volúmenes de datos (Douze et al., 2025).\n"
      ]
    },
    {
      "cell_type": "markdown",
      "metadata": {
        "id": "MngWJVoNfUvq"
      },
      "source": [
        "## 2. Librerías"
      ]
    },
    {
      "cell_type": "code",
      "source": [
        "from google.colab import drive\n",
        "drive.mount('/content/drive')\n",
        "google_drive_path_parent = \"/content/drive/MyDrive/Colab Notebooks/NLP/Actividades/ActividadSemana9_Chatbot_LLM_RAG/\""
      ],
      "metadata": {
        "colab": {
          "base_uri": "https://localhost:8080/"
        },
        "id": "AFi0kXx9dJ1c",
        "outputId": "46f7d88a-e75e-41a5-ac4d-bf1d29dcdd0e"
      },
      "execution_count": null,
      "outputs": [
        {
          "output_type": "stream",
          "name": "stdout",
          "text": [
            "Drive already mounted at /content/drive; to attempt to forcibly remount, call drive.mount(\"/content/drive\", force_remount=True).\n"
          ]
        }
      ]
    },
    {
      "cell_type": "code",
      "source": [
        "#Se hacen las instalaciones necesarias\n",
        "!pip install -q openai pymupdf faiss-cpu"
      ],
      "metadata": {
        "id": "fSqkHTMObLRg"
      },
      "execution_count": null,
      "outputs": []
    },
    {
      "cell_type": "code",
      "source": [
        "#Se hacen las importaciones necesarias\n",
        "from google.colab import userdata\n",
        "import openai\n",
        "import fitz #PyMuPDF\n",
        "import tiktoken\n",
        "import numpy as np\n",
        "import faiss\n",
        "import pickle\n",
        "import json\n",
        "import re\n"
      ],
      "metadata": {
        "id": "Bfs5Zxc9j7Uf"
      },
      "execution_count": null,
      "outputs": []
    },
    {
      "cell_type": "markdown",
      "metadata": {
        "id": "GYR6A62mfUvs"
      },
      "source": [
        "## 3. Open AI"
      ]
    },
    {
      "cell_type": "markdown",
      "metadata": {
        "id": "kLa3C84XfUvs"
      },
      "source": [
        "La API de OpenAI permite acceder a modelos avanzados de inteligencia artificial para realizar tareas como generación de texto, análisis semántico y generación de embeddings. Aqui se configura la autenticación mediante una API Key almacenada en los secretos del usuario, garantizando el acceso seguro a los servicios de OpenAI."
      ]
    },
    {
      "cell_type": "code",
      "source": [
        "# Se carga la API Key de OpenAI\n",
        "api_key = userdata.get(\"OPENAI_API_KEY_PERSONAL\")\n",
        "\n",
        "if not api_key:\n",
        "  raise ValueError(\"API key no encontrada en los secretos\")\n",
        "\n",
        "client = openai.OpenAI(api_key=api_key)"
      ],
      "metadata": {
        "id": "eTw6-9mxcLdj"
      },
      "execution_count": null,
      "outputs": []
    },
    {
      "cell_type": "markdown",
      "metadata": {
        "id": "4zLSTcWNfUvs"
      },
      "source": [
        "## 4. Extracción y procesamiento de texto desde PDF"
      ]
    },
    {
      "cell_type": "markdown",
      "metadata": {
        "id": "kDl5ogpdfUvs"
      },
      "source": [
        "En esta sección, se implementa un sistema de extracción y procesamiento de texto desde un documento PDF de una guía alimentaria para mujeres embarazadas.\n",
        "El proceso comienza con la lectura del archivo PDF y la segmentación del contenido en fragmentos de texto significativos, eliminando encabezados, pies de página y elementos complejos como tablas. Posteriormente, los fragmentos filtrados se almacenan en formato JSON, lo que permite su edición y estructuración para una recuperación eficiente.\n",
        "Esta etapa es clave para asegurar que la información proporcionada al usuario sea precisa, relevante y fundamentada en fuentes confiables."
      ]
    },
    {
      "cell_type": "code",
      "source": [
        "def extract_text_from_pdf(\n",
        "    pdf_path,\n",
        "    use_blocks=True,\n",
        "    min_length=40,\n",
        "    exclude_headers_footers=True,\n",
        "    header_height=60,\n",
        "    footer_height=60,\n",
        "    skip_pages=None,\n",
        "    start_at_page=0,\n",
        "    stop_at_page=None,\n",
        "    omit_texts=None\n",
        "):\n",
        "    \"\"\"\n",
        "    Extrae texto de un PDF usando PyMuPDF, ordenando bloques visuales y controlando\n",
        "    rango de páginas y omisión de textos específicos.\n",
        "\n",
        "    Args:\n",
        "        pdf_path (str): Ruta del archivo PDF.\n",
        "        use_blocks (bool): Si True, extrae texto por bloques visuales; si False, por página completa.\n",
        "        min_length (int): Longitud mínima para conservar un bloque.\n",
        "        exclude_headers_footers (bool): Si True, excluye encabezado y pie de página.\n",
        "        header_height (int): Altura desde arriba a excluir (en puntos).\n",
        "        footer_height (int): Altura desde abajo a excluir (en puntos).\n",
        "        skip_pages (List[int] or None): Índices de páginas (base 0) a omitir.\n",
        "        start_at_page (int): Página inicial (índice base 0) para empezar a procesar.\n",
        "        stop_at_page (int or None): Índice de página en la que se debe detener el procesamiento.\n",
        "        omit_texts (List[str] or None): Lista de textos exactos a omitir (case-insensitive, strip).\n",
        "\n",
        "    Returns:\n",
        "        List[str]: Lista de chunks de texto extraídos del PDF.\n",
        "    \"\"\"\n",
        "    doc = fitz.open(pdf_path)\n",
        "    all_chunks = []\n",
        "    skip_pages = skip_pages or []\n",
        "    omit_texts = [t.strip().lower() for t in (omit_texts or [])]\n",
        "\n",
        "    start_marker = \"lunes martes miércoles jueves viernes sábado domingo\"\n",
        "    end_marker = \"oriente sobre cómo poner en práctica la recomendación, mencionando que:\"\n",
        "    skipping = False\n",
        "\n",
        "    # Itera desde start_at_page hasta stop_at_page (no inclusivo)\n",
        "    page_range = range(start_at_page, stop_at_page if stop_at_page is not None else len(doc))\n",
        "\n",
        "    for i in page_range:\n",
        "        if i in skip_pages:\n",
        "            continue\n",
        "\n",
        "        page = doc[i]\n",
        "        page_height = page.rect.height\n",
        "\n",
        "        if use_blocks:\n",
        "            blocks = page.get_text(\"blocks\")\n",
        "            blocks = sorted(blocks, key=lambda b: (b[1], b[0]))\n",
        "            for b in blocks:\n",
        "                x0, y0, x1, y1, text = b[:5]\n",
        "                if not text or len(text.strip()) < min_length:\n",
        "                    continue\n",
        "                if exclude_headers_footers and (y0 < header_height or y1 > page_height - footer_height):\n",
        "                    continue\n",
        "                clean_text = re.sub(r'\\s+', ' ', text.strip().replace(\"\\n\", \" \").replace(\"\\t\", \" \"))\n",
        "                lower_clean = clean_text.lower()\n",
        "                if lower_clean in omit_texts:\n",
        "                    continue\n",
        "                if start_marker in lower_clean:\n",
        "                    skipping = True\n",
        "                    continue\n",
        "                if end_marker in lower_clean:\n",
        "                    skipping = False\n",
        "                    continue\n",
        "                if skipping:\n",
        "                    continue\n",
        "                all_chunks.append(clean_text)\n",
        "        else:\n",
        "            text = page.get_text()\n",
        "            if text and len(text.strip()) >= min_length:\n",
        "                clean_text = re.sub(r'\\s+', ' ', text.strip().replace(\"\\n\", \" \").replace(\"\\t\", \" \"))\n",
        "                lower_clean = clean_text.lower()\n",
        "                if lower_clean in omit_texts:\n",
        "                    continue\n",
        "                if start_marker in lower_clean:\n",
        "                    skipping = True\n",
        "                    continue\n",
        "                if end_marker in lower_clean:\n",
        "                    skipping = False\n",
        "                    continue\n",
        "                if skipping:\n",
        "                    continue\n",
        "                all_chunks.append(clean_text)\n",
        "\n",
        "    return all_chunks\n",
        "\n",
        "\n",
        "\n",
        "def save_chunks_to_json(chunks, file_path=\"chunks.json\"):\n",
        "    \"\"\"\n",
        "    Guarda una lista de bloques de texto en un archivo JSON.\n",
        "    Cada línea es un bloque, editable manualmente.\n",
        "    \"\"\"\n",
        "    with open(file_path, \"w\", encoding=\"utf-8\") as f:\n",
        "        json.dump(chunks, f, ensure_ascii=False, indent=2)\n",
        "    print(f\"✅ Bloques guardados en {file_path}\")\n",
        "\n",
        "\n",
        "def load_chunks_from_json(file_path=\"chunks.json\"):\n",
        "    \"\"\"\n",
        "    Carga los bloques de texto desde un archivo JSON y devuelve una lista.\n",
        "    \"\"\"\n",
        "    with open(file_path, \"r\", encoding=\"utf-8\") as f:\n",
        "        chunks = json.load(f)\n",
        "    print(f\"📄 Bloques cargados: {len(chunks)}\")\n",
        "    return chunks"
      ],
      "metadata": {
        "id": "BGUzhJ8Oc-GA"
      },
      "execution_count": null,
      "outputs": []
    },
    {
      "cell_type": "markdown",
      "metadata": {
        "id": "7bJkeiVsfUvs"
      },
      "source": [
        "## 5. Generación y gestión de embeddings"
      ]
    },
    {
      "cell_type": "markdown",
      "metadata": {
        "id": "FrDfYQQffUvs"
      },
      "source": [
        "En esta sección se generan los embeddings, estos se crean utilizando el modelo **text-embedding-3-small** de OpenAI, permitiendo que los fragmentos de texto sean codificados en un espacio vectorial donde términos con significados similares se encuentran cercanos. Posteriormente, estos embeddings se almacenan en archivos .pkl para facilitar su reutilización y recuperación eficiente.\n",
        "Este proceso es fundamental para realizar búsquedas semánticas y seleccionar la información más relevante en función de las preguntas del usuario."
      ]
    },
    {
      "cell_type": "code",
      "source": [
        "def embed_texts_openai(texts):\n",
        "    embeddings = []\n",
        "    for chunk in texts:\n",
        "        response = client.embeddings.create(\n",
        "            input=chunk,\n",
        "            model=\"text-embedding-3-small\"\n",
        "        )\n",
        "        embedding = response.data[0].embedding\n",
        "        embeddings.append(embedding)\n",
        "    return np.array(embeddings).astype(\"float32\")\n",
        "\n",
        "def save_embeddings_to_pkl(vectors, chunks, file_path=\"embeddings_data.pkl\"):\n",
        "    \"\"\"\n",
        "    Guarda los vectores (embeddings) y sus textos (chunks) en un archivo .pkl.\n",
        "\n",
        "    Args:\n",
        "        vectors (List[List[float]] o np.ndarray): Embeddings generados.\n",
        "        chunks (List[str]): Lista de textos originales de cada embedding.\n",
        "        file_path (str): Ruta de archivo donde se guardará todo.\n",
        "    \"\"\"\n",
        "    data = {\n",
        "        \"vectors\": np.array(vectors).astype(\"float64\"),\n",
        "        \"chunks\": chunks\n",
        "    }\n",
        "    with open(file_path, \"wb\") as f:\n",
        "        pickle.dump(data, f)\n",
        "    print(f\"✅ Embeddings guardados en {file_path}\")\n",
        "\n",
        "\n",
        "def load_embeddings_from_pkl(file_path=\"embeddings_data.pkl\"):\n",
        "    \"\"\"\n",
        "    Carga los vectores (embeddings) y los textos (chunks) desde un archivo .pkl.\n",
        "\n",
        "    Returns:\n",
        "        Tuple[np.ndarray, List[str]]: embeddings y chunks.\n",
        "    \"\"\"\n",
        "    with open(file_path, \"rb\") as f:\n",
        "        data = pickle.load(f)\n",
        "    print(f\"📂 Cargados {len(data['chunks'])} embeddings desde {file_path}\")\n",
        "    return data[\"vectors\"], data[\"chunks\"]"
      ],
      "metadata": {
        "id": "XiXvd1HgjKcd"
      },
      "execution_count": null,
      "outputs": []
    },
    {
      "cell_type": "markdown",
      "metadata": {
        "id": "P7DtlxGXfUvs"
      },
      "source": [
        "## 6. Optimización de búsqueda y recuperación de información"
      ]
    },
    {
      "cell_type": "markdown",
      "metadata": {
        "id": "YgYDQ_LHfUvt"
      },
      "source": [
        "En esta sección, se emplea **FAISS** para indexar los embeddings generados y acelerar la búsqueda de fragmentos de texto con mayor similitud con la consulta del usuario.\n",
        "El índice FAISS permite realizar búsquedas rápidas en grandes volúmenes de datos embebidos, identificando los fragmentos más relevantes sin necesidad de recorrer todo el conjunto de datos. Esto es fundamental para responder preguntas con base en la información extraída del PDF de la guía alimentaria para mujeres embarazadas, asegurando respuestas fundamentadas y contextualizadas.\n",
        "Además de crea la función summarize_history que va a usar un LLM para ir generando y guardando un resumen de la charla actual."
      ]
    },
    {
      "cell_type": "code",
      "source": [
        "def create_faiss_index(embeddings):\n",
        "    dimension = len(embeddings[0])\n",
        "    index = faiss.IndexFlatL2(dimension)\n",
        "    index.add(embeddings)\n",
        "    return index"
      ],
      "metadata": {
        "id": "ROYnbNw-jC_D"
      },
      "execution_count": null,
      "outputs": []
    },
    {
      "cell_type": "code",
      "source": [
        "def retrieve_and_answer_openai(\n",
        "    question,\n",
        "    chunks,\n",
        "    index,\n",
        "    chunk_embeddings,\n",
        "    client,\n",
        "    summary=None,\n",
        "    top_k=5,\n",
        "    use_rag=True,\n",
        "    print_chunks=False\n",
        "):\n",
        "    if use_rag:\n",
        "        q_embedding = client.embeddings.create(\n",
        "            input=question,\n",
        "            model=\"text-embedding-3-small\"\n",
        "        ).data[0].embedding\n",
        "        q_vector = np.array(q_embedding).astype(\"float32\").reshape(1, -1)\n",
        "        D, I = index.search(q_vector, top_k)\n",
        "        if print_chunks:\n",
        "            print(\"------------------------------------\")\n",
        "            for rank, idx in enumerate(I[0]):\n",
        "                print(f\"--- Chunk #{idx} --\")\n",
        "                print(f\"Distancia (D): {D[0][rank]} \\n\")\n",
        "                print(chunks[idx])\n",
        "            print(\"------------------------------------\")\n",
        "        context = \"\\n---\\n\".join([chunks[i] for i in I[0]])\n",
        "\n",
        "        if summary:\n",
        "            prompt = f\"\"\"Resumen de la conversación previa:\n",
        "{summary}\n",
        "\n",
        "Usa la siguiente información para responder la pregunta de forma clara y completa. Solo responde con base en la información proporcionada, no busques datos en otras fuentes.\n",
        "Información:\n",
        "{context}\n",
        "\n",
        "Pregunta: {question}\n",
        "Respuesta:\"\"\"\n",
        "        else:\n",
        "            prompt = f\"\"\"Usa la siguiente información para responder la pregunta de forma clara y completa. Solo responde con base en la información proporcionada, no busques datos en otras fuentes.\n",
        "Información:\n",
        "{context}\n",
        "\n",
        "Pregunta: {question}\n",
        "Respuesta:\"\"\"\n",
        "    else:\n",
        "        if summary:\n",
        "            prompt = f\"\"\"Resumen de la conversación previa:\n",
        "{summary}\n",
        "\n",
        "Responde de forma clara y completa la siguiente pregunta sobre alimentación durante el embarazo. Si no tienes información suficiente, dilo claramente.\n",
        "\n",
        "Pregunta: {question}\n",
        "Respuesta:\"\"\"\n",
        "        else:\n",
        "            prompt = f\"\"\"Responde de forma clara y completa la siguiente pregunta sobre alimentación durante el embarazo. Si no tienes información suficiente, dilo claramente.\n",
        "\n",
        "Pregunta: {question}\n",
        "Respuesta:\"\"\"\n",
        "\n",
        "    response = client.chat.completions.create(\n",
        "        model=\"o4-mini\",\n",
        "        messages=[\n",
        "            {\n",
        "                \"role\": \"system\",\n",
        "                \"content\": (\n",
        "                    \"Eres un chatbot para resolver dudas de la alimentación durante el embarazo \"\n",
        "                    \"que responde en base a la información proporcionada de contexto. \"\n",
        "                    \"Si la información no es suficiente, entonces dices que no puedes responder esa pregunta.\"\n",
        "                    \"Si algún fragmento de la información proporcionada no está relacionada con la pregunta, ignóralo al hacer la respuesta.\"\n",
        "                )\n",
        "            },\n",
        "            {\"role\": \"user\", \"content\": prompt}\n",
        "        ]\n",
        "    )\n",
        "    return response.choices[0].message.content.strip()\n"
      ],
      "metadata": {
        "id": "F9Ofr4-AwMwU"
      },
      "execution_count": null,
      "outputs": []
    },
    {
      "cell_type": "code",
      "source": [
        "def summarize_history(history, client, max_turns=2):\n",
        "    \"\"\"\n",
        "    Resume la conversación contenida en 'history'.\n",
        "    Si hay menos de max_turns, devuelve el historial como string.\n",
        "    \"\"\"\n",
        "    if len(history) < max_turns * 2:  # Cada turno son 2 entradas\n",
        "        # Historial corto, solo lo concatenamos\n",
        "        return \"\\n\".join(f\"{msg['role'].capitalize()}: {msg['content']}\" for msg in history)\n",
        "\n",
        "    # Si es largo, lo resumimos\n",
        "    history_text = \"\\n\".join(f\"{msg['role'].capitalize()}: {msg['content']}\" for msg in history)\n",
        "    resumen_prompt = (\n",
        "        f\"Resume la siguiente conversación entre usuario y chatbot sobre alimentación durante el embarazo, \"\n",
        "        f\"conservando los puntos clave y detalles importantes:\\n\\n{history_text}\\n\\nResumen:\"\n",
        "    )\n",
        "    response = client.chat.completions.create(\n",
        "        model=\"o4-mini\",\n",
        "        messages=[\n",
        "            {\"role\": \"system\", \"content\": \"Eres un asistente experto en resumir conversaciones de nutrición para embarazadas.\"},\n",
        "            {\"role\": \"user\", \"content\": resumen_prompt}\n",
        "        ]\n",
        "    )\n",
        "    return response.choices[0].message.content.strip()"
      ],
      "metadata": {
        "id": "P1Te3gexb8sy"
      },
      "execution_count": null,
      "outputs": []
    },
    {
      "cell_type": "markdown",
      "metadata": {
        "id": "irC138RzfUvt"
      },
      "source": [
        "## 7. Procesamiento"
      ]
    },
    {
      "cell_type": "markdown",
      "metadata": {
        "id": "8-OPtgTafUvt"
      },
      "source": [
        "En esta sección, se preparan los datos extraídos de la guía alimentaria para mujeres embarazadas, asegurando que sean filtrados y estructurados adecuadamente para su uso en el sistema de recuperación de información.\n",
        "Primero se comienza con la extracción de texto desde el archivo PDF, donde se segmentan los fragmentos en bloques, eliminando encabezados, pies de página y secciones con tablas y se establecen parámetros clave como el rango de páginas a analizar, garantizando que solo la información útil sea capturada.\n",
        "Una vez extraídos los fragmentos, estos se almacenan en un archivo JSON, facilitando su edición manual para mejorar su calidad. Dejando solo el contenido textual relevante. Posteriormente, se generan y guardan embeddings de estos fragmentos, lo que permite convertir el texto en representaciones numéricas para realizar búsquedas semánticas más precisas.\n",
        "Finalmente, se crea un índice FAISS, permitiendo que el sistema busque los fragmentos más relevantes al recibir una pregunta.\n",
        "Este procesamiento es esencial para asegurar que la información utilizada por el modelo de lenguaje sea clara, estructurada y altamente relevante, optimizando la precisión y calidad de las respuestas generadas.\n"
      ]
    },
    {
      "cell_type": "code",
      "source": [
        "# PROCESAMIENTO\n",
        "'''\n",
        "pdf_path = google_drive_path_parent + \"guia-alimentaria-mujeres-embarazadas.pdf\"\n",
        "chunks_v2 = extract_text_from_pdf(\n",
        "    pdf_path=pdf_path,\n",
        "    use_blocks=True,\n",
        "    min_length=3,\n",
        "    exclude_headers_footers=True,\n",
        "    header_height=0,\n",
        "    footer_height=50,\n",
        "    skip_pages=[],\n",
        "    start_at_page=6,\n",
        "    stop_at_page=78,\n",
        "    omit_texts=[\"¿CÓMO ESTAMOS EN MÉXICO?\",\n",
        "                \"¿POR QUÉ ES IMPORTANTE ESTA RECOMENDACIÓN?\",\n",
        "                \"En la salud:\",\n",
        "                \"En las mujeres:\",\n",
        "                \"En las y los bebés:\",\n",
        "                \"En la cultura y en la sociedad:\",\n",
        "                \"En el ambiente:\",\n",
        "                \"En la economía, en la cultura y en la sociedad:\",\n",
        "                \"En el o la bebé gestante\",\n",
        "                \"En mujeres embarazadas:\",\n",
        "                \"En mujeres en periodo de lactancia y posparto:\",\n",
        "                \"En las y los recién nacidos:\",\n",
        "                #\"ORIENTE SOBRE CÓMO PONER EN PRÁCTICA LA RECOMENDACIÓN, MENCIONANDO QUE:\",\n",
        "                ]\n",
        ")\n",
        "'''"
      ],
      "metadata": {
        "id": "WmudszGrdFAC",
        "colab": {
          "base_uri": "https://localhost:8080/",
          "height": 109
        },
        "outputId": "e7788f73-b312-4594-f02e-532e648e3672"
      },
      "execution_count": null,
      "outputs": [
        {
          "output_type": "execute_result",
          "data": {
            "text/plain": [
              "'\\npdf_path = google_drive_path_parent + \"guia-alimentaria-mujeres-embarazadas.pdf\"\\nchunks_v2 = extract_text_from_pdf(\\n    pdf_path=pdf_path,\\n    use_blocks=True,\\n    min_length=3,\\n    exclude_headers_footers=True,\\n    header_height=0,\\n    footer_height=50,\\n    skip_pages=[],\\n    start_at_page=6,\\n    stop_at_page=78,\\n    omit_texts=[\"¿CÓMO ESTAMOS EN MÉXICO?\",\\n                \"¿POR QUÉ ES IMPORTANTE ESTA RECOMENDACIÓN?\",\\n                \"En la salud:\",\\n                \"En las mujeres:\",\\n                \"En las y los bebés:\",\\n                \"En la cultura y en la sociedad:\",\\n                \"En el ambiente:\",\\n                \"En la economía, en la cultura y en la sociedad:\",\\n                \"En el o la bebé gestante\",\\n                \"En mujeres embarazadas:\",\\n                \"En mujeres en periodo de lactancia y posparto:\",\\n                \"En las y los recién nacidos:\",\\n                #\"ORIENTE SOBRE CÓMO PONER EN PRÁCTICA LA RECOMENDACIÓN, MENCIONANDO QUE:\",\\n                ]\\n)\\n'"
            ],
            "application/vnd.google.colaboratory.intrinsic+json": {
              "type": "string"
            }
          },
          "metadata": {},
          "execution_count": 27
        }
      ]
    },
    {
      "cell_type": "code",
      "source": [
        "#save_chunks_to_json(chunks=chunks_v2, file_path= google_drive_path_parent + \"chunks_v2.json\")"
      ],
      "metadata": {
        "id": "nvXOCsQIdkJ5"
      },
      "execution_count": null,
      "outputs": []
    },
    {
      "cell_type": "code",
      "source": [
        "#chunks2 =load_chunks_from_json(file_path=google_drive_path_parent + \"chunks_cambios_manuales.json\")\n",
        "#Los cambios manuales que hicieron fueron eliminar la información correspondiente a las tablas"
      ],
      "metadata": {
        "collapsed": true,
        "id": "f1vHraKSuHAZ"
      },
      "execution_count": null,
      "outputs": []
    },
    {
      "cell_type": "code",
      "source": [
        "#%%time\n",
        "#Se generan los embeddings\n",
        "#embeddings = embed_texts_openai(chunks_v2)"
      ],
      "metadata": {
        "id": "ylsgt-GvukxB"
      },
      "execution_count": null,
      "outputs": []
    },
    {
      "cell_type": "code",
      "source": [
        "#save_embeddings_to_pkl(embeddings, chunks_v2, file_path=google_drive_path_parent + \"embeddings_guia_alimentaria_v2.pkl\")"
      ],
      "metadata": {
        "id": "tIyaHzkJvaeT"
      },
      "execution_count": null,
      "outputs": []
    },
    {
      "cell_type": "code",
      "source": [
        "embeddings, chunks_v2 =load_embeddings_from_pkl(file_path=google_drive_path_parent + \"embeddings_guia_alimentaria_v2.pkl\")"
      ],
      "metadata": {
        "colab": {
          "base_uri": "https://localhost:8080/"
        },
        "id": "iroa0HVGv6jR",
        "outputId": "9fd4d363-6dad-49d1-ca90-a27ee3907b22"
      },
      "execution_count": null,
      "outputs": [
        {
          "output_type": "stream",
          "name": "stdout",
          "text": [
            "📂 Cargados 287 embeddings desde /content/drive/MyDrive/Colab Notebooks/NLP/Actividades/ActividadSemana9_Chatbot_LLM_RAG/embeddings_guia_alimentaria_v2.pkl\n"
          ]
        }
      ]
    },
    {
      "cell_type": "code",
      "source": [
        "#Se crea el indice\n",
        "faiss_index = create_faiss_index(embeddings)"
      ],
      "metadata": {
        "id": "JPsPbJHju-It"
      },
      "execution_count": null,
      "outputs": []
    },
    {
      "cell_type": "code",
      "source": [
        "\n",
        "#pregunta = \"¿Se puede consumir alcohol durante el embarazo?\"\n",
        "#pregunta = \"¿Qué alimentos y bebidas se deben evitar durante el embarazo?\"\n",
        "#pregunta = \"¿cuántas leguminosas se recomienda consumir durante el embarazo?\"\n",
        "#pregunta = \"¿Qué frutas puedo comer durante el embarazo?\" # No tiene buenos resultados esta pregunta\n",
        "#pregunta = \"¿Qué cereales debo comer durante el embarazo?\"\n",
        "#pregunta = \"¿Puedo comer elote?\"\n",
        "\n",
        "\n",
        "#pregunta = \"¿Puedo comer frutos rojos, como fresas, zarzamoras, arandanos, etc\"\n",
        "#pregunta = \"¿Puedo comer chorizo?\"\n",
        "#pregunta = \"¿Puedo comer carne de pescado?\"\n",
        "#pregunta = \"¿Qué me dijsite de los frutos rojos?\"\n",
        "#pregunta = \"¿Se puede consumir café durante el embarazo?\"\n",
        "#pregunta = \"¿Cuánta agua se debe consumir durante el embarazo?\"\n",
        "#respuesta = retrieve_and_answer_openai(pregunta, chunks_v2, faiss_index, embeddings, use_rag=True, print_chunks=True)\n",
        "#print(\"\\n🤖 Respuesta del chatbot:\\n\", respuesta)"
      ],
      "metadata": {
        "id": "Fq035boJwHW_"
      },
      "execution_count": null,
      "outputs": []
    },
    {
      "cell_type": "markdown",
      "metadata": {
        "id": "x0MbM8UPfUvu"
      },
      "source": [
        "## 8. Aplicación en nutrición materna"
      ]
    },
    {
      "cell_type": "markdown",
      "metadata": {
        "id": "XdZpgaMIfUvu"
      },
      "source": [
        "En esta sección, el sistema responde preguntas sobre alimentación durante el embarazo basándose en la información previamente extraída de la guía alimentaria. Se implementa un flujo de procesamiento que recupera fragmentos de texto relevantes y los utiliza como contexto para generar respuestas fundamentadas con un modelo de lenguaje de OpenAI.\n",
        "Utilizando búsqueda semántica con FAISS y embeddings generados con OpenAI, el sistema identifica los fragmentos de texto más relevantes en la guía alimentaria y los emplea en la construcción de respuestas.\n"
      ]
    },
    {
      "cell_type": "code",
      "source": [
        "history = []       # Historial de turnos pregunta/resp\n",
        "summary = None     # El resumen actual\n",
        "\n",
        "while True:\n",
        "    pregunta = input(\"Pregunta: \")\n",
        "    if pregunta.lower() in [\"salir\"]:\n",
        "        break\n",
        "\n",
        "    # Genera respuesta con memoria-resumen\n",
        "    respuesta = retrieve_and_answer_openai(\n",
        "        question=pregunta,\n",
        "        chunks=chunks_v2,\n",
        "        index=faiss_index,\n",
        "        chunk_embeddings=embeddings,\n",
        "        client=client,\n",
        "        summary=summary,\n",
        "        use_rag=True,\n",
        "        print_chunks=True\n",
        "    )\n",
        "    print(\"Chatbot:\", respuesta)\n",
        "    print(\"##################################\")\n",
        "    history.append({\"role\": \"user\", \"content\": pregunta})\n",
        "    history.append({\"role\": \"assistant\", \"content\": respuesta})\n",
        "\n",
        "    # Actualiza el resumen si el historial es largo\n",
        "    summary = summarize_history(history, client)\n"
      ],
      "metadata": {
        "colab": {
          "base_uri": "https://localhost:8080/"
        },
        "id": "oRl7AagWcHo4",
        "outputId": "9c7834d4-e15d-4a1b-f950-61c68649e8e6"
      },
      "execution_count": null,
      "outputs": [
        {
          "name": "stdout",
          "output_type": "stream",
          "text": [
            "Pregunta: ¿Puedo comer frutos rojos, como fresas, zarzamoras, arandanos, etc\n",
            "------------------------------------\n",
            "--- Chunk #65 --\n",
            "Distancia (D): 0.9038963317871094 \n",
            "\n",
            "Pruebe congelar tus frutas favoritas, ya sea plátano, fresas o uvas, entre otras.\n",
            "--- Chunk #64 --\n",
            "Distancia (D): 0.9370267391204834 \n",
            "\n",
            "Incluya frutas de temporada, tanto en el desayuno, los refrigerios o en cualquier momento del día en el que tenga hambre o antojo de algo dulce.\n",
            "--- Chunk #67 --\n",
            "Distancia (D): 0.9628674983978271 \n",
            "\n",
            "Incluya frutas en todas sus comidas; puede hacer combinaciones con otros grupos de alimentos, por ejemplo: cereal con fruta (avena con manzana), leche y fruta (licuado de plátano), verduras y frutas (ensalada con espinaca, lechuga y fresa o naranja en gajos), entre otras.\n",
            "--- Chunk #7 --\n",
            "Distancia (D): 0.9753925204277039 \n",
            "\n",
            "· Verduras: como acelgas, brócoli, calabaza, cebolla, chile, espinaca, hongos, jitomate, lechuga, pepino, nopal y zanahoria. · Frutas: como durazno, fresa, guayaba, mango, manzana, naranja, papaya, piña, sandía y uva.\n",
            "--- Chunk #63 --\n",
            "Distancia (D): 0.9755551815032959 \n",
            "\n",
            "PARA COMER MÁS FRUTAS\n",
            "------------------------------------\n",
            "Chatbot: Sí puedes comer fresas, ya que están incluidas en la lista de frutas recomendadas.  \n",
            "Sin embargo, zarzamoras y arándanos no aparecen en la información proporcionada, así que no puedo confirmar si también están permitidos.\n",
            "##################################\n",
            "Pregunta: ¿Puedo comer chorizo?\n",
            "------------------------------------\n",
            "--- Chunk #31 --\n",
            "Distancia (D): 0.9779031872749329 \n",
            "\n",
            "Incluye diariamente carnes, pollo o hígado en tus comidas. Son ricos en hierro y te protegen de la anemia. Evita chorizo, longaniza y otros, ya que tienen mucha sal y grasa, y no son buenos para tu salud ni la de tu bebé.\n",
            "--- Chunk #123 --\n",
            "Distancia (D): 1.0059599876403809 \n",
            "\n",
            "Incluye diariamente carnes, pollo o hígado en tus comidas. Son ricos en hierro y te protegen de la anemia. Evita chorizo, longaniza y otros, ya que tienen mucha sal y grasa, y no son buenos para tu salud ni la de tu bebé. 4\n",
            "--- Chunk #134 --\n",
            "Distancia (D): 1.0728815793991089 \n",
            "\n",
            "Evite consumir carnes procesadas con alto aporte de grasa saturada, grasas trans y sodio (como embutidos y encurtidos; jamón, salchicha, mortadela, etc.). Estos productos son fácilmente identificables gracias al etiquetado frontal con los sellos de advertencia de “Exceso de sodio”, “Exceso de grasa saturada” y “Exceso de grasas trans”.\n",
            "--- Chunk #142 --\n",
            "Distancia (D): 1.2244765758514404 \n",
            "\n",
            "No se recomienda el consumo de productos ultraprocesados por sus implicaciones en la salud y al medio ambiente. Si se consumen, se recomienda que sea sólo de manera esporádica.\n",
            "--- Chunk #105 --\n",
            "Distancia (D): 1.2275288105010986 \n",
            "\n",
            "Ejemplo: galletas y pastelillos o chicharrones de harina de trigo.\n",
            "------------------------------------\n",
            "Chatbot: No. El chorizo es un embutido alto en sal y grasa, por lo que debes evitarlo durante el embarazo.\n",
            "##################################\n",
            "Pregunta: ¿Puedo comer carne de pescado?\n",
            "------------------------------------\n",
            "--- Chunk #135 --\n",
            "Distancia (D): 0.9449446201324463 \n",
            "\n",
            "Trate de consumir al menos una vez a la semana pescado, y de ser posible 2 ó 3 veces por semana. Es una buena fuente de proteína y de ácidos grasos saludables, y durante el embarazo se requiere de una mayor cantidad de estos nutrimentos, los cuales benefician su salud y la de su bebé.\n",
            "--- Chunk #130 --\n",
            "Distancia (D): 1.1228731870651245 \n",
            "\n",
            "¿CUÁNTA CARNE Y OTROS ALIMENTOS DE ORIGEN ANIMAL SE RECOMIENDA CONSUMIR EN EL EMBARAZO Y LA LACTANCIA?\n",
            "--- Chunk #131 --\n",
            "Distancia (D): 1.1245818138122559 \n",
            "\n",
            "Para mujeres embarazadas, recomiende el consumo diario de alimentos de origen animal, siempre y cuando se cumpla con las porciones recomendadas y no se exceda el consumo de carnes rojas más de dos veces a la semana.\n",
            "--- Chunk #133 --\n",
            "Distancia (D): 1.1925570964813232 \n",
            "\n",
            "Consuma carnes rojas en las porciones recomendadas, sin excederse, para cuidar su salud, la su bebé y la del planeta.\n",
            "--- Chunk #123 --\n",
            "Distancia (D): 1.1936601400375366 \n",
            "\n",
            "Incluye diariamente carnes, pollo o hígado en tus comidas. Son ricos en hierro y te protegen de la anemia. Evita chorizo, longaniza y otros, ya que tienen mucha sal y grasa, y no son buenos para tu salud ni la de tu bebé. 4\n",
            "------------------------------------\n",
            "Chatbot: Sí. El pescado forma parte de los alimentos de origen animal que se recomiendan en el embarazo, pues aporta proteína y ácidos grasos beneficiosos para ti y tu bebé.  \n",
            "Recomendación:  \n",
            "• Consúmelo al menos 1 vez a la semana y, de ser posible, 2–3 veces por semana.  \n",
            "• Ten en cuenta las porciones adecuadas y combina con otras fuentes de proteína animal (carnes magras, pollo o hígado) a diario.  \n",
            "• Sigue evitando embutidos como chorizo y longaniza, ricos en sal y grasa.\n",
            "##################################\n",
            "Pregunta: ¿Qué me dijiste de los frutos rojos?\n",
            "------------------------------------\n",
            "--- Chunk #66 --\n",
            "Distancia (D): 1.1837232112884521 \n",
            "\n",
            "Agregue fruta a sus ensaladas.\n",
            "--- Chunk #63 --\n",
            "Distancia (D): 1.1879810094833374 \n",
            "\n",
            "PARA COMER MÁS FRUTAS\n",
            "--- Chunk #7 --\n",
            "Distancia (D): 1.1884291172027588 \n",
            "\n",
            "· Verduras: como acelgas, brócoli, calabaza, cebolla, chile, espinaca, hongos, jitomate, lechuga, pepino, nopal y zanahoria. · Frutas: como durazno, fresa, guayaba, mango, manzana, naranja, papaya, piña, sandía y uva.\n",
            "--- Chunk #65 --\n",
            "Distancia (D): 1.1940494775772095 \n",
            "\n",
            "Pruebe congelar tus frutas favoritas, ya sea plátano, fresas o uvas, entre otras.\n",
            "--- Chunk #64 --\n",
            "Distancia (D): 1.2149641513824463 \n",
            "\n",
            "Incluya frutas de temporada, tanto en el desayuno, los refrigerios o en cualquier momento del día en el que tenga hambre o antojo de algo dulce.\n",
            "------------------------------------\n",
            "Chatbot: De los frutos rojos te comenté que las fresas están permitidas y recomendadas durante el embarazo; en cambio, sobre zarzamoras y arándanos no hay datos suficientes para confirmarlos.\n",
            "##################################\n",
            "Pregunta: ¿Se puede consumir café durante el embarazo?\"\n",
            "------------------------------------\n",
            "--- Chunk #161 --\n",
            "Distancia (D): 0.8038594126701355 \n",
            "\n",
            "Consumir bebidas azucaradas durante el embarazo y la lactancia puede causar daño a la salud de la mamá y su bebé, ya que contienen azúcar y algunas tienen cafeína. Consumirlas aumenta el riesgo de sobrepeso u obesidad, debido a que se digieren rápidamente y el organismo no detecta su consumo, provocando que haya menor saciedad y se mantenga la necesidad de comer alimentos sólidos, aumentando el consumo de calorías y promoviendo la ganancia de peso.\n",
            "--- Chunk #262 --\n",
            "Distancia (D): 0.8269921541213989 \n",
            "\n",
            "DURANTE EL EMBARAZO:\n",
            "--- Chunk #189 --\n",
            "Distancia (D): 0.8317985534667969 \n",
            "\n",
            "Por las razones previamente mencionadas, no se recomienda el consumo de bebidas alcohólicas de ningún tipo durante el embarazo y la lactancia.\n",
            "--- Chunk #235 --\n",
            "Distancia (D): 0.8797280788421631 \n",
            "\n",
            "• Durante el embarazo, muchas mujeres tienen síntomas y malestares que pueden hacer que sus rutinas de alimentación cambien. • La calidad y cantidad de los alimentos que se consumen en esta etapa es muy importante, pero también lo es el momento en el que comemos. • Comer durante la noche, sobre todo después de las 7:00 pm, puede hacer que se gane más peso durante el embarazo y se retenga más peso en el posparto. También puede generar otros problemas de salud como azúcar alta en la sangre. • Hacer más de 5 comidas al día durante el embarazo puede aumentar el riesgo de sobrepeso y obesidad, alterar la percepción de apetito y la sensación de sentirse satisfecha después de comer. • Por otro lado, pasar muchas horas sin comer puede aumentar el riesgo de parto prematuro y causar que baje mucho el azúcar en la sangre, lo que puede afectar al bebé. • En la lactancia, consumir alimentos durante el día y en horarios fijos ayuda a establecer el ciclo del sueño y vigilia del bebé.\n",
            "--- Chunk #32 --\n",
            "Distancia (D): 0.9034473299980164 \n",
            "\n",
            "Toma agua natural a lo largo del día y con todas tus comidas: 9 vasos al día en el embarazo y 10 vasos al día durante la lactancia. Evita tomar bebidas azucaradas como refrescos, jugos, aguas preparadas con sobres en polvo y bebidas deportivas. El azúcar en exceso es dañino para la salud y los envases contaminan el ambiente.\n",
            "------------------------------------\n",
            "Chatbot: No puedo responder con la información proporcionada.\n",
            "##################################\n",
            "Pregunta: ¿Cuánta agua se debe consumir durante el embarazo?\n",
            "------------------------------------\n",
            "--- Chunk #156 --\n",
            "Distancia (D): 0.5434666872024536 \n",
            "\n",
            "En las mujeres embarazadas, beber suficiente agua natural es muy importante para la salud de mamá y para el crecimiento, desarrollo y salud del bebé. Durante el embarazo, ocurren cambios en el organismo que incrementan las necesidades de agua natural, aumentando:\n",
            "--- Chunk #166 --\n",
            "Distancia (D): 0.5958932638168335 \n",
            "\n",
            "DURANTE EL EMBARAZO Se recomienda consumir 9 vasos o tazas al día, o un rango de 2 a 3 litros.*\n",
            "--- Chunk #32 --\n",
            "Distancia (D): 0.6373450756072998 \n",
            "\n",
            "Toma agua natural a lo largo del día y con todas tus comidas: 9 vasos al día en el embarazo y 10 vasos al día durante la lactancia. Evita tomar bebidas azucaradas como refrescos, jugos, aguas preparadas con sobres en polvo y bebidas deportivas. El azúcar en exceso es dañino para la salud y los envases contaminan el ambiente.\n",
            "--- Chunk #159 --\n",
            "Distancia (D): 0.772746205329895 \n",
            "\n",
            "Por ello, si no se consume suficiente agua en esta etapa, se aumenta el riesgo de padecer estreñimiento, preeclampsia, incluso aborto o parto prematuro.\n",
            "--- Chunk #49 --\n",
            "Distancia (D): 0.7891428470611572 \n",
            "\n",
            "¿CUÁNTAS VERDURAS Y FRUTAS SE RECOMIENDA CONSUMIR EN EL EMBARAZO Y LA LACTANCIA?\n",
            "------------------------------------\n",
            "Chatbot: Durante el embarazo se recomienda consumir 9 vasos o tazas de agua natural al día, lo que equivale a un rango aproximado de 2 a 3 litros diarios. Lo ideal es repartirla a lo largo de todo el día y acompañar cada comida con agua, evitando bebidas azucaradas (refrescos, jugos en polvo, bebidas deportivas).\n",
            "##################################\n",
            "Pregunta: salir\n"
          ]
        }
      ]
    },
    {
      "cell_type": "markdown",
      "source": [
        "# **Conclusiones:**"
      ],
      "metadata": {
        "id": "Kx-dZSFJz9cK"
      }
    },
    {
      "cell_type": "markdown",
      "source": [
        "La combinación de Large Language Models (LLM) y Retrieval-Augmented Generation (RAG) ofrece una solución poderosa para mejorar la precisión y relevancia de las respuestas generadas por modelos de lenguaje. Mientras que los LLM son capaces de generar texto fluido y coherente, su conocimiento está limitado a los datos con los que fueron entrenados. Aquí es donde RAG entra en juego ya que al integrar un mecanismo de recuperación de información, los modelos pueden acceder a datos actualizados y específicos, reduciendo errores y mejorando la contextualización de las respuestas.\n",
        "\n",
        "En este caso, el uso de LLM + RAG permite responder consultas nutricionales durante el embarazo con información fundamentada en una guía especializada. Al integrar procesamiento de texto, búsqueda semántica y generación automática de respuestas, se logra una solución efectiva que proporciona respuestas claras y contextualizadas. Por otro lado, la eliminación de contenido irrelevante mejora significativamente la precisión de las respuestas. En general, el modelo facilita la difusión de información confiable sobre nutrición materna, contribuyendo a la identificación de mejores hábitos alimenticios durante el embarazo.\n",
        "\n",
        "Finalmente, la generación de un resumen del chat actual por medio de un LLM es una técnica poderosa para ahorrar tokens, disminuir el tiempo de respuesta a la vez que se genera una mejor experiencia al usuario.\n",
        "\n",
        "Como una fase siguiente de este chatbot pensamos que podríamos denormalizar las tablas contenidas en el pdf y generar los chunks que contengan esa información para posteriormente agregarlos al índice y de esta forma el chatbot pueda responder preguntas como: ¿Cuántos gramos de carne debo de comer si tengo 8 meses de embarazo? o ¿De acuerdo a mi índice masa corporal (23), ¿cuántas porciones de pollo debo comer si estoy en el primer trimestre del embarazo?. E inclusive se podría llegar a evaluar qué tan bueno es el chatbot realizando recomendaciones de porciones de alimentos para crear una dieta semanal. Sin duda el chatbot puede ser una herramienta muy útil para las mujeres mexicanas que tienen muchas preguntas acerca de sus hábitos alimenticios para darle la mejor nutrición a su bebé."
      ],
      "metadata": {
        "id": "3w3usdaC0BCj"
      }
    },
    {
      "cell_type": "markdown",
      "metadata": {
        "id": "32gDUplzfUvu"
      },
      "source": [
        "## 10. Bibliografía"
      ]
    },
    {
      "cell_type": "markdown",
      "metadata": {
        "id": "9oRbT3WIfUvy"
      },
      "source": [
        "Aytar, A. Y., Kaya, K., & Kilic, K. (2024). A retrieval-augmented generation framework for academic literature navigation in data science. arXiv. https://arxiv.org/abs/2412.15404v1\n",
        "\n",
        "Naveed, H., Khan, A. U., Qiu, S., Saqib, M., Anwar, S., Usman, M., Akhtar, N., Barnes, N., & Mian, A. (2024). A comprehensive overview of large language models. arXiv. https://arxiv.org/abs/2307.06435\n",
        "\n",
        "Douze, M., Guzhva, A., Deng, C., Johnson, J., Szilvasy, G., Mazaré, P.-E., Lomeli, M., Hosseini, L., & Jégou, H. (2025). The Faiss library. arXiv. https://arxiv.org/abs/2401.08281\n",
        "\n",
        "Secretaría de Salud, Instituto Nacional de Salud Pública, UNICEF. Bonvecchio-Arenas, A., Ramírez-Silva, C. I., Fernández-Gaxiola, A. C., Ayala-Niochet, M. C., & Unar-Munguía, M. (2024). Recomendaciones para la promoción de la salud en mujeres embarazadas y en periodo de lactancia. México. Recuperado de https://pronamsalud.csg.gob.mx/guia-alimentaria-mujeres-embarazadas.pdf\n"
      ]
    },
    {
      "cell_type": "markdown",
      "source": [
        "# **Fin de la actividad chatbot: LLM + RAG**"
      ],
      "metadata": {
        "id": "CtB5Q3m41YQ0"
      }
    }
  ]
}