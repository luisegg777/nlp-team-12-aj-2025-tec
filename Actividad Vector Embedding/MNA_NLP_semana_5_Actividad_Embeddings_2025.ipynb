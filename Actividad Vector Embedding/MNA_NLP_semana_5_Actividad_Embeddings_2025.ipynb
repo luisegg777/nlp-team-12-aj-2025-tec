{
  "cells": [
    {
      "cell_type": "markdown",
      "metadata": {
        "id": "lNl8G3vHkPSX"
      },
      "source": [
        "# **Maestría en Inteligencia Artificial Aplicada**\n",
        "\n",
        "## Curso: **Procesamiento de Lenguaje Natural**\n",
        "\n",
        "### Tecnológico de Monterrey\n",
        "\n",
        "### Prof Luis Eduardo Falcón Morales\n",
        "\n",
        "## Adtividad Semana 5\n",
        "\n",
        "### **Vectores Embebidos de OpenAI**"
      ]
    },
    {
      "cell_type": "markdown",
      "metadata": {
        "id": "U69mHA6i201G"
      },
      "source": [
        "#### **Nombres y matrículas de los integrantes del equipo:**\n",
        "\n",
        "- Fernando Omar Salazar Ortiz - A01796214\n",
        "- Carlos Aaron Bocanegra Buitron - A01796345\n",
        "- Luis Enrique González González - A01795338\n",
        "- Gloria María Campos García - A01422345\n",
        "\n"
      ]
    },
    {
      "cell_type": "code",
      "execution_count": 1,
      "metadata": {
        "id": "wCL2p6MA8NuT"
      },
      "outputs": [],
      "source": [
        "# Aquí deberás incluir todas las librerías que requieras durante esta actividad:\n",
        "import pandas as pd\n",
        "import numpy as np\n",
        "from openai import OpenAI\n",
        "import matplotlib.pyplot as plt\n",
        "import seaborn as sns\n",
        "from sklearn.model_selection import train_test_split\n",
        "from sklearn.metrics import accuracy_score, classification_report\n",
        "import warnings\n",
        "warnings.filterwarnings('ignore')"
      ]
    },
    {
      "cell_type": "code",
      "execution_count": 2,
      "metadata": {
        "id": "7wc107K-oIV4"
      },
      "outputs": [
        {
          "name": "stdout",
          "output_type": "stream",
          "text": [
            "Conexión exitosa con la API de OpenAI\n"
          ]
        }
      ],
      "source": [
        "# Incluye las celdas necesarias para tu acceso a la API de OpenAI.\n",
        "# Configura tu clave API de OpenAI\n",
        "from dotenv import load_dotenv\n",
        "load_dotenv()\n",
        "import os\n",
        "\n",
        "api_key = os.environ.get(\"OPENAI_API_KEY\")\n",
        "client = OpenAI(api_key=api_key)\n",
        "\n",
        "# Verifica que la clave API esté configurada correctamente\n",
        "try:\n",
        "    # Intenta hacer una llamada simple a la API\n",
        "    response = client.completions.create(model=\"gpt-3.5-turbo-instruct\", prompt=\"Hola\")\n",
        "\n",
        "    print(\"Conexión exitosa con la API de OpenAI\")\n",
        "except Exception as e:\n",
        "    print(\"Error al conectar con la API de OpenAI:\", e)\n",
        "\n"
      ]
    },
    {
      "cell_type": "markdown",
      "metadata": {
        "id": "4c34ZOnna3Gu"
      },
      "source": [
        "# **Pregunta - 1:**\n",
        "\n"
      ]
    },
    {
      "cell_type": "markdown",
      "metadata": {
        "id": "yeNllxRdmeWg"
      },
      "source": [
        "Descarga los 3 archivos de Canvas y genera un nuevo DataFrame de Pandas con ellos.\n",
        "\n",
        "**Llama simplemente \"df\" a dicho DataFrame.**\n",
        "\n",
        "Los archivos los encuentras en Canvas: amazon5.txt, imdb5.txt, yelp5.txt.\n",
        "\n"
      ]
    },
    {
      "cell_type": "code",
      "execution_count": 12,
      "metadata": {
        "id": "T_lyEFRkxzC6"
      },
      "outputs": [],
      "source": [
        "\n",
        "# ******* Inlcuye a continuación todas las líneas de código y celdas que requieras: ***********\n",
        "\n",
        "\n",
        "# Leer los archivos de texto\n",
        "amazon_df = pd.read_csv('amazon5.txt', sep='\\t', names=['text', 'sentiment'], header=None, encoding='utf-8')\n",
        "imdb_df = pd.read_csv('imdb5.txt', sep=r'\\s{3,}', names=['text', 'sentiment'], encoding='utf-8', engine='python')\n",
        "yelp_df = pd.read_csv('yelp5.txt', sep='\\t', names=['text', 'sentiment'], header=None, encoding='utf-8')\n",
        "\n",
        "# Concatenar los DataFrames\n",
        "df = pd.concat([amazon_df, imdb_df, yelp_df], ignore_index=True)\n",
        "\n",
        "\n",
        "# *********** Aquí termina la sección de agregar código *************\n"
      ]
    },
    {
      "cell_type": "code",
      "execution_count": 13,
      "metadata": {
        "id": "3-w1xMLYnm9b"
      },
      "outputs": [
        {
          "name": "stdout",
          "output_type": "stream",
          "text": [
            "<class 'pandas.core.frame.DataFrame'>\n",
            "RangeIndex: 3000 entries, 0 to 2999\n",
            "Data columns (total 2 columns):\n",
            " #   Column     Non-Null Count  Dtype \n",
            "---  ------     --------------  ----- \n",
            " 0   text       3000 non-null   object\n",
            " 1   sentiment  3000 non-null   int64 \n",
            "dtypes: int64(1), object(1)\n",
            "memory usage: 47.0+ KB\n"
          ]
        }
      ],
      "source": [
        "# Verifiquemos la información del DataFrame:\n",
        "df.info()"
      ]
    },
    {
      "cell_type": "code",
      "execution_count": 14,
      "metadata": {
        "id": "NfVUcYe1nubT"
      },
      "outputs": [
        {
          "data": {
            "text/html": [
              "<div>\n",
              "<style scoped>\n",
              "    .dataframe tbody tr th:only-of-type {\n",
              "        vertical-align: middle;\n",
              "    }\n",
              "\n",
              "    .dataframe tbody tr th {\n",
              "        vertical-align: top;\n",
              "    }\n",
              "\n",
              "    .dataframe thead th {\n",
              "        text-align: right;\n",
              "    }\n",
              "</style>\n",
              "<table border=\"1\" class=\"dataframe\">\n",
              "  <thead>\n",
              "    <tr style=\"text-align: right;\">\n",
              "      <th></th>\n",
              "      <th>text</th>\n",
              "      <th>sentiment</th>\n",
              "    </tr>\n",
              "  </thead>\n",
              "  <tbody>\n",
              "    <tr>\n",
              "      <th>0</th>\n",
              "      <td>So there is no way for me to plug it in here i...</td>\n",
              "      <td>0</td>\n",
              "    </tr>\n",
              "    <tr>\n",
              "      <th>1</th>\n",
              "      <td>Good case, Excellent value.</td>\n",
              "      <td>1</td>\n",
              "    </tr>\n",
              "    <tr>\n",
              "      <th>2</th>\n",
              "      <td>Great for the jawbone.</td>\n",
              "      <td>1</td>\n",
              "    </tr>\n",
              "    <tr>\n",
              "      <th>3</th>\n",
              "      <td>Tied to charger for conversations lasting more...</td>\n",
              "      <td>0</td>\n",
              "    </tr>\n",
              "    <tr>\n",
              "      <th>4</th>\n",
              "      <td>The mic is great.</td>\n",
              "      <td>1</td>\n",
              "    </tr>\n",
              "  </tbody>\n",
              "</table>\n",
              "</div>"
            ],
            "text/plain": [
              "                                                text  sentiment\n",
              "0  So there is no way for me to plug it in here i...          0\n",
              "1                        Good case, Excellent value.          1\n",
              "2                             Great for the jawbone.          1\n",
              "3  Tied to charger for conversations lasting more...          0\n",
              "4                                  The mic is great.          1"
            ]
          },
          "execution_count": 14,
          "metadata": {},
          "output_type": "execute_result"
        }
      ],
      "source": [
        "# Y veamos sus primeros registros:\n",
        "\n",
        "df.head()"
      ]
    },
    {
      "cell_type": "markdown",
      "metadata": {
        "id": "MfZZ0stLmWJN"
      },
      "source": [
        "# **Pregunta - 2:**"
      ]
    },
    {
      "cell_type": "markdown",
      "metadata": {
        "id": "7F6JF5BommZ6"
      },
      "source": [
        "Realiza el proceso de limpieza. Aplica el preprocesamiento que consideres adecuado.\n",
        "\n",
        "\n",
        "\n",
        "\n",
        "\n",
        "\n",
        "\n",
        "\n",
        "\n"
      ]
    },
    {
      "cell_type": "code",
      "execution_count": 20,
      "metadata": {
        "id": "TsnvMp-7oYCM"
      },
      "outputs": [
        {
          "name": "stderr",
          "output_type": "stream",
          "text": [
            "[nltk_data] Downloading package punkt to\n",
            "[nltk_data]     C:\\Users\\ferna\\AppData\\Roaming\\nltk_data...\n",
            "[nltk_data]   Package punkt is already up-to-date!\n",
            "[nltk_data] Downloading package stopwords to\n",
            "[nltk_data]     C:\\Users\\ferna\\AppData\\Roaming\\nltk_data...\n",
            "[nltk_data]   Package stopwords is already up-to-date!\n",
            "[nltk_data] Downloading package wordnet to\n",
            "[nltk_data]     C:\\Users\\ferna\\AppData\\Roaming\\nltk_data...\n",
            "[nltk_data]   Package wordnet is already up-to-date!\n"
          ]
        }
      ],
      "source": [
        "\n",
        "# ******* Inlcuye a continuación todas las líneas de código y celdas que requieras: ***********\n",
        "\n",
        "\n",
        "# Importar las bibliotecas necesarias para limpieza de texto\n",
        "import re\n",
        "import nltk\n",
        "from nltk.tokenize import word_tokenize\n",
        "from nltk.corpus import stopwords\n",
        "from nltk.stem import WordNetLemmatizer\n",
        "\n",
        "# Descargar recursos necesarios de NLTK\n",
        "nltk.download('punkt')\n",
        "nltk.download('stopwords') \n",
        "nltk.download('wordnet')\n",
        "\n",
        "def limpiar_texto(texto):\n",
        "    # Convertir a minúsculas\n",
        "    texto = texto.lower()\n",
        "    \n",
        "    # Eliminar caracteres especiales y números\n",
        "    texto = re.sub(r'[^a-zA-Z\\s]', '', texto)\n",
        "    \n",
        "    # Tokenización\n",
        "    tokens = word_tokenize(texto)\n",
        "    \n",
        "    # Eliminar stopwords\n",
        "    stop_words = set(stopwords.words('english'))\n",
        "    tokens = [token for token in tokens if token not in stop_words]\n",
        "    \n",
        "    # Lematización\n",
        "    lemmatizer = WordNetLemmatizer()\n",
        "    tokens = [lemmatizer.lemmatize(token) for token in tokens]\n",
        "    \n",
        "    # Unir tokens nuevamente en un string\n",
        "    return tokens\n",
        "\n",
        "X = df.text\n",
        "Y = df.sentiment\n",
        "\n",
        "Xclean = [limpiar_texto(x) for x in X]\n",
        "\n",
        "\n",
        "# *********** Aquí termina la sección de agregar código *************"
      ]
    },
    {
      "cell_type": "code",
      "execution_count": 21,
      "metadata": {
        "id": "7jlQuoI2o33T"
      },
      "outputs": [
        {
          "name": "stdout",
          "output_type": "stream",
          "text": [
            "['way', 'plug', 'u', 'unless', 'go', 'converter']\n",
            "['good', 'case', 'excellent', 'value']\n",
            "['great', 'jawbone']\n",
            "['tied', 'charger', 'conversation', 'lasting', 'minutesmajor', 'problem']\n",
            "['mic', 'great']\n"
          ]
        }
      ],
      "source": [
        "# Despleguemos los primeros comentarios después de tu proceso de limpieza:\n",
        "\n",
        "for x in Xclean[0:5]:\n",
        "  print(x)\n"
      ]
    },
    {
      "cell_type": "markdown",
      "metadata": {
        "id": "ygchEdcKqIzU"
      },
      "source": [
        "# **Pregunta - 3:**\n"
      ]
    },
    {
      "cell_type": "markdown",
      "metadata": {
        "id": "7wEIOkkl9Dot"
      },
      "source": [
        "\n",
        "Realicemos una partición aleatoria con los mismos porcentajes de la práctica pasada para poder comparar dichos resultados con los de\n",
        "esta actividad, a saber, 70%, 15% y 15%, para entrenamiento, validación y prueba, respectivamente."
      ]
    },
    {
      "cell_type": "code",
      "execution_count": 22,
      "metadata": {
        "id": "b0SAcYdq9X0w"
      },
      "outputs": [
        {
          "name": "stdout",
          "output_type": "stream",
          "text": [
            "X,y Train: 2100 2100\n",
            "X,y Val: 450 450\n",
            "X,y Test 450 450\n"
          ]
        }
      ],
      "source": [
        "\n",
        "# ************* Inicia la sección de agregar código:*****************************\n",
        "\n",
        "# Importar train_test_split de sklearn\n",
        "from sklearn.model_selection import train_test_split\n",
        "\n",
        "# Primero dividimos en train (70%) y temp (30%)\n",
        "x_train, x_temp, y_train, y_temp = train_test_split(Xclean, Y, \n",
        "                                                    test_size=0.3, \n",
        "                                                    random_state=42)\n",
        "\n",
        "# Luego dividimos temp en validation (15%) y test (15%)\n",
        "x_val, x_test, y_val, y_test = train_test_split(x_temp, y_temp,\n",
        "                                               test_size=0.5,\n",
        "                                               random_state=42)\n",
        "\n",
        "\n",
        "\n",
        "\n",
        "# *********** Termina la sección de agregar código *************\n",
        "\n",
        "\n",
        "# verificemos las dimensiones obtenidas:\n",
        "print('X,y Train:', len(x_train), len(y_train))\n",
        "print('X,y Val:', len(x_val), len(y_val))\n",
        "print('X,y Test', len(x_test), len(y_test))"
      ]
    },
    {
      "cell_type": "markdown",
      "metadata": {
        "id": "1qjKoEqiqBN1"
      },
      "source": [
        "# **Pregunta - 4:**"
      ]
    },
    {
      "cell_type": "markdown",
      "metadata": {
        "id": "jENsKiN99r3F"
      },
      "source": [
        "\n",
        "\n",
        "Construye tu vocabulario a continuación\n"
      ]
    },
    {
      "cell_type": "code",
      "execution_count": 37,
      "metadata": {
        "id": "TzJntmLPqPqC"
      },
      "outputs": [],
      "source": [
        "# a.\tUsa el conjunto de entrenamiento para generar tu vocabulario\n",
        "#     con un tamaño que consideres adecuado:\n",
        "\n",
        "\n",
        "# ******* Inlcuye a continuación todas las líneas de código y celdas que requieras: ***********\n",
        "\n",
        "\n",
        "# Importar las bibliotecas necesarias\n",
        "from collections import Counter\n",
        "import nltk\n",
        "from nltk.tokenize import word_tokenize\n",
        "from nltk.corpus import stopwords\n",
        "\n",
        "# Obtener stopwords en inglés\n",
        "stop_words = set(stopwords.words('english'))\n",
        "\n",
        "# Función para preprocesar y tokenizar texto\n",
        "def preprocess_text(text):\n",
        "    # Convertir a string y minúsculas\n",
        "    text_str = ' '.join(text).lower()\n",
        "    # Tokenizar\n",
        "    tokens = word_tokenize(text_str)\n",
        "    # Filtrar tokens: solo palabras alfabéticas, no stopwords y longitud mínima de 3 caracteres\n",
        "    return [token for token in tokens if token.isalpha() and \n",
        "            token not in stop_words and len(token) >= 3]\n",
        "\n",
        "# Tokenizar y preprocesar todos los textos de entrenamiento\n",
        "tokens_train = []\n",
        "for text in x_train:\n",
        "    tokens_train.extend(preprocess_text(text))\n",
        "\n",
        "# Contar frecuencia de palabras\n",
        "word_counts = Counter(tokens_train)\n",
        "\n",
        "# Crear vocabulario con palabras que aparecen al menos 3 veces\n",
        "vocab = {word for word, count in word_counts.items() if count >= 3}\n",
        "\n",
        "# Convertir a lista ordenada alfabéticamente\n",
        "vocab = sorted(list(vocab))\n",
        "\n",
        "\n",
        "# *********** Aquí termina la sección de agregar código *************"
      ]
    },
    {
      "cell_type": "code",
      "execution_count": 38,
      "metadata": {
        "id": "yTDZ0Rr86CUP"
      },
      "outputs": [
        {
          "name": "stdout",
          "output_type": "stream",
          "text": [
            "Longitud del vocabulario generado:\n",
            "959\n"
          ]
        }
      ],
      "source": [
        "# b.\tIndica el tamaño del vocabulario generado.\n",
        "\n",
        "print('Longitud del vocabulario generado:')\n",
        "\n",
        "\n",
        "# ******* Inicia la sección de agregar código: ***********\n",
        "\n",
        "\n",
        "print(len(vocab))\n",
        "\n",
        "\n",
        "# *********** Aquí termina la sección de agregar código *************"
      ]
    },
    {
      "cell_type": "markdown",
      "metadata": {
        "id": "NDa4EhTqrw15"
      },
      "source": [
        "c.\t¿Por qué debe usarse solamente el conjunto de entrenamiento para generar el vocabulario?\n",
        "\n",
        "\n",
        "### ++++++++ Inicia la sección de agregar texto: +++++++++++\n",
        "\n",
        "Principalmente para evitar fuga de datos (data leakage), ya que si usáramos los conjuntos de validación o prueba para generar el vocabulario, estaríamos \"contaminando\" nuestro modelo con información que no debería conocer durante el entrenamiento. Esto podría llevar a un sobreajuste y a una evaluación poco realista del rendimiento del modelo. \n",
        "\n",
        "\n",
        "### ++++++++ Termina la sección de agregar texto: +++++++++++\n"
      ]
    },
    {
      "cell_type": "code",
      "execution_count": 47,
      "metadata": {
        "id": "7ykjxQI3rpxx"
      },
      "outputs": [],
      "source": [
        "# d.\tCon el vocabulario generado, filtra los conjuntos de entrenamiento,\n",
        "#     validación y prueba para que todos los comentarios usen solamente las\n",
        "#     palabras de este vocabulario.\n",
        "\n",
        "#     Llamar train_x, val_x y test_x a estos tres conjuntos.\n",
        "\n",
        "\n",
        "# ******* Inlcuye a continuación todas las líneas de código y celdas que requieras: ***********\n",
        "\n",
        "\n",
        "# Función para filtrar palabras que no están en el vocabulario\n",
        "def filtrar_vocabulario(texto, vocab):\n",
        "    palabras_filtradas = [palabra for palabra in texto if palabra in vocab]\n",
        "    return palabras_filtradas\n",
        "\n",
        "# Aplicar el filtrado a los conjuntos de datos\n",
        "train_x = [filtrar_vocabulario(texto, vocab) for texto in x_train]  # Eliminado ['text']\n",
        "val_x = [filtrar_vocabulario(texto, vocab) for texto in x_val]      # Eliminado ['text']\n",
        "test_x = [filtrar_vocabulario(texto, vocab) for texto in x_test]    # Eliminado ['text']\n",
        "\n",
        "\n",
        "# *********** Aquí termina la sección de agregar código *************\n"
      ]
    },
    {
      "cell_type": "code",
      "execution_count": 48,
      "metadata": {
        "id": "iYF2RGuPtQTC"
      },
      "outputs": [
        {
          "name": "stdout",
          "output_type": "stream",
          "text": [
            "['belt', 'make', 'feel', 'like']\n",
            "['keep', 'good', 'work', 'amazon']\n",
            "['dont', 'many', 'word', 'say', 'place', 'everything', 'pretty', 'well']\n",
            "['disappointed', 'battery']\n",
            "['film', 'try', 'serious', 'flick', 'fails']\n"
          ]
        }
      ],
      "source": [
        "# Vemos el resultado de los primeros comentarios del conjunto de entrenamiento:\n",
        "\n",
        "for ss in train_x[0:5]:\n",
        "  print(ss)"
      ]
    },
    {
      "cell_type": "markdown",
      "metadata": {
        "id": "RS0Hxj25vTWh"
      },
      "source": [
        "# **Pregunta - 5:**"
      ]
    },
    {
      "cell_type": "markdown",
      "metadata": {
        "id": "CnHHAza5_P5Z"
      },
      "source": [
        "\n",
        "#### **Incluye aquí un resumen de las características y diferencias que tiene al menos los tres modelos de OpenAI indicados: \"text-embedding-3-small\", \"text-embedding-3-large\" y \"text-embedding-ada-002\".**"
      ]
    },
    {
      "cell_type": "markdown",
      "metadata": {
        "id": "uTI9xSgF_Xc8"
      },
      "source": [
        "### ++++++++ Inicia la sección de agregar texto: +++++++++++\n",
        "\n",
        "1. text-embedding-3-small:\n",
        "- Es el modelo más reciente y eficiente\n",
        "- Genera embeddings de 1536 dimensiones\n",
        "- Ofrece un buen balance entre rendimiento y costo\n",
        "- Tiene un mejor rendimiento que ada-002 en la mayoría de las tareas\n",
        "- Es más rápido y económico que text-embedding-3-large\n",
        "\n",
        "2. text-embedding-3-large:\n",
        "- Es el modelo más potente y reciente\n",
        "- Genera embeddings de 3072 dimensiones\n",
        "- Ofrece el mejor rendimiento en tareas de búsqueda semántica\n",
        "- Es más costoso y requiere más recursos computacionales\n",
        "- Ideal para aplicaciones que requieren máxima precisión\n",
        "\n",
        "3. text-embedding-ada-002:\n",
        "- Es el modelo más antiguo de los tres\n",
        "- Genera embeddings de 1536 dimensiones\n",
        "- Fue el modelo estándar antes del lanzamiento de la serie 3\n",
        "- Tiene un rendimiento inferior a los modelos de la serie 3\n",
        "- Sigue siendo útil para aplicaciones básicas\n",
        "\n",
        "### ++++++++ Termina la sección de agregar texto: +++++++++++\n"
      ]
    },
    {
      "cell_type": "markdown",
      "metadata": {
        "id": "ToqRl7fT_fn2"
      },
      "source": [
        "# **Pregunta - 6:**\n"
      ]
    },
    {
      "cell_type": "markdown",
      "metadata": {
        "id": "BKqQk03oqoOD"
      },
      "source": [
        "#### **Diccionario clave-valor de palabras del diccionario y vectores embebidos.**"
      ]
    },
    {
      "cell_type": "code",
      "execution_count": 49,
      "metadata": {
        "id": "UdK-jMfLxHLY"
      },
      "outputs": [
        {
          "name": "stderr",
          "output_type": "stream",
          "text": [
            "100%|██████████| 10/10 [00:12<00:00,  1.23s/it]\n"
          ]
        },
        {
          "name": "stdout",
          "output_type": "stream",
          "text": [
            "Proceso completado. Total de tokens utilizados: 1353\n",
            "Costo aproximado: $0.02706 USD\n",
            "Dimensión de los vectores: 1536\n"
          ]
        }
      ],
      "source": [
        "# ******* Inlcuye a continuación todas las líneas de código y celdas que requieras: ***********\n",
        "\n",
        "\n",
        "from tqdm import tqdm\n",
        "\n",
        "# Seleccionar modelo (cada uno tiene diferentes características y costos)\n",
        "# text-embedding-3-small: Más económico ($0.02/1K tokens)\n",
        "# text-embedding-3-large: Mayor precisión pero más costoso ($0.13/1K tokens)\n",
        "# text-embedding-ada-002: Modelo previo, buen balance ($0.0001/1K tokens)\n",
        "modelo = \"text-embedding-3-small\"\n",
        "\n",
        "# Generar embeddings y crear diccionario\n",
        "embeddings_dict = {}\n",
        "total_tokens = 0\n",
        "\n",
        "# Procesamos por lotes para evitar límites de la API\n",
        "batch_size = 100\n",
        "for i in tqdm(range(0, len(vocab), batch_size)):\n",
        "    batch = vocab[i:i+batch_size]\n",
        "    \n",
        "    # Solicitar embeddings a la API\n",
        "    response = client.embeddings.create(\n",
        "        model=modelo,\n",
        "        input=batch\n",
        "    )\n",
        "    \n",
        "    # Actualizar contador de tokens\n",
        "    total_tokens += response.usage.total_tokens\n",
        "    \n",
        "    # Añadir al diccionario\n",
        "    for j, embedding in enumerate(response.data):\n",
        "        embeddings_dict[batch[j]] = embedding.embedding\n",
        "\n",
        "# Guardar el diccionario\n",
        "with open(f'embeddings_{modelo.replace(\"-\", \"_\")}.pkl', 'wb') as f:\n",
        "    pickle.dump(embeddings_dict, f)\n",
        "\n",
        "print(f\"Proceso completado. Total de tokens utilizados: {total_tokens}\")\n",
        "print(f\"Costo aproximado: ${total_tokens/1000 * 0.02 if modelo=='text-embedding-3-small' else total_tokens/1000 * 0.13 if modelo=='text-embedding-3-large' else total_tokens/1000 * 0.0001} USD\")\n",
        "print(f\"Dimensión de los vectores: {len(next(iter(embeddings_dict.values())))}\")\n",
        "\n",
        "\n",
        "# *********** Aquí termina la sección de agregar código *************"
      ]
    },
    {
      "cell_type": "markdown",
      "metadata": {
        "id": "W4S7q0yR0Mpi"
      },
      "source": [
        "# **Pregunta - 7:**"
      ]
    },
    {
      "cell_type": "markdown",
      "metadata": {
        "id": "VyeOrkoaC1eq"
      },
      "source": [
        "\n",
        "\n",
        "Generamos los vectores embebidos a partir de los conjuntos de entrenamiento, validación y prueba.\n",
        "\n",
        "Los llamaremos trainEmb, valEmb y testEmb, respectivamente."
      ]
    },
    {
      "cell_type": "code",
      "execution_count": 52,
      "metadata": {
        "id": "wnfQpkxg0Usq"
      },
      "outputs": [
        {
          "name": "stdout",
          "output_type": "stream",
          "text": [
            "Generando embeddings para el conjunto de entrenamiento...\n"
          ]
        },
        {
          "name": "stderr",
          "output_type": "stream",
          "text": [
            "100%|██████████| 2100/2100 [00:00<00:00, 3033.71it/s]\n"
          ]
        },
        {
          "name": "stdout",
          "output_type": "stream",
          "text": [
            "Generando embeddings para el conjunto de validación...\n"
          ]
        },
        {
          "name": "stderr",
          "output_type": "stream",
          "text": [
            "100%|██████████| 450/450 [00:00<00:00, 3496.23it/s]\n"
          ]
        },
        {
          "name": "stdout",
          "output_type": "stream",
          "text": [
            "Generando embeddings para el conjunto de prueba...\n"
          ]
        },
        {
          "name": "stderr",
          "output_type": "stream",
          "text": [
            "100%|██████████| 450/450 [00:00<00:00, 3694.02it/s]\n"
          ]
        }
      ],
      "source": [
        "# ******* Inlcuye a continuación todas las líneas de código y celdas que requieras: ***********\n",
        "\n",
        "\n",
        "# Cargar el diccionario de embeddings desde pickle\n",
        "with open('embeddings_text_embedding_3_small.pkl', 'rb') as f:\n",
        "    embeddings_dict = pickle.load(f)\n",
        "\n",
        "# Función para generar el embedding de un comentario\n",
        "def get_comment_embedding(comment, embeddings_dict):\n",
        "    \"\"\"\n",
        "    Genera un embedding para un comentario promediando los embeddings de sus palabras\n",
        "    \"\"\"\n",
        "    \n",
        "    # Filtrar para mantener solo palabras que están en el diccionario\n",
        "    valid_embeddings = [embeddings_dict[word] for word in comment if word in embeddings_dict]\n",
        "    \n",
        "    # Calcular el promedio si hay palabras válidas\n",
        "    if valid_embeddings:\n",
        "        return np.mean(valid_embeddings, axis=0)\n",
        "    else:\n",
        "        # Si no hay palabras válidas, devuelve un vector de ceros con la dimensión correcta\n",
        "        embedding_dim = len(next(iter(embeddings_dict.values())))\n",
        "        return np.zeros(embedding_dim)\n",
        "\n",
        "# Generar embeddings para los conjuntos de entrenamiento, validación y prueba\n",
        "\n",
        "print(\"Generando embeddings para el conjunto de entrenamiento...\")\n",
        "trainEmb = np.array([get_comment_embedding(comment, embeddings_dict) for comment in tqdm(train_x)])\n",
        "\n",
        "print(\"Generando embeddings para el conjunto de validación...\")\n",
        "valEmb = np.array([get_comment_embedding(comment, embeddings_dict) for comment in tqdm(val_x)])\n",
        "\n",
        "print(\"Generando embeddings para el conjunto de prueba...\")\n",
        "testEmb = np.array([get_comment_embedding(comment, embeddings_dict) for comment in tqdm(test_x)])\n",
        "\n",
        "\n",
        "# *********** Aquí termina la sección de agregar código *************"
      ]
    },
    {
      "cell_type": "code",
      "execution_count": 53,
      "metadata": {
        "id": "J3BBF96D0N8Z"
      },
      "outputs": [
        {
          "name": "stdout",
          "output_type": "stream",
          "text": [
            "Train-Emb: (2100, 1536)\n",
            "Val-Emb: (450, 1536)\n",
            "Test-Emb: (450, 1536)\n"
          ]
        }
      ],
      "source": [
        "# Veamos las dimensiones de cada conjunto embebido:\n",
        "\n",
        "print(\"Train-Emb:\", trainEmb.shape)\n",
        "print(\"Val-Emb:\", valEmb.shape)\n",
        "print(\"Test-Emb:\", testEmb.shape)"
      ]
    },
    {
      "cell_type": "markdown",
      "metadata": {
        "id": "pibp1LA91CP_"
      },
      "source": [
        "# **Pregunta - 8:**\n"
      ]
    },
    {
      "cell_type": "markdown",
      "metadata": {
        "id": "UxC9K0VnGOwG"
      },
      "source": [
        "\n",
        "Utiliza los modelos de regresión logística y bosque aleatorio (random forest) y encuentra sus desempeños.\n",
        "\n",
        "Compara los resultados con los de la semana anterior."
      ]
    },
    {
      "cell_type": "code",
      "execution_count": null,
      "metadata": {
        "id": "ycwjD8ztGOL7"
      },
      "outputs": [
        {
          "name": "stdout",
          "output_type": "stream",
          "text": [
            "==================================================\n",
            "MODELO: REGRESIÓN LOGÍSTICA\n",
            "==================================================\n",
            "Exactitud en Entrenamiento: 0.8110\n",
            "\n",
            "Reporte de clasificación en Entrenamiento:\n",
            "              precision    recall  f1-score   support\n",
            "\n",
            "           0       0.80      0.82      0.81      1051\n",
            "           1       0.82      0.80      0.81      1049\n",
            "\n",
            "    accuracy                           0.81      2100\n",
            "   macro avg       0.81      0.81      0.81      2100\n",
            "weighted avg       0.81      0.81      0.81      2100\n",
            "\n",
            "\n",
            "Exactitud en Validación: 0.7978\n",
            "\n",
            "Reporte de clasificación en Validación:\n",
            "              precision    recall  f1-score   support\n",
            "\n",
            "           0       0.80      0.81      0.81       232\n",
            "           1       0.80      0.78      0.79       218\n",
            "\n",
            "    accuracy                           0.80       450\n",
            "   macro avg       0.80      0.80      0.80       450\n",
            "weighted avg       0.80      0.80      0.80       450\n",
            "\n",
            "\n",
            "Diferencia entre Entrenamiento y Validación: 0.0132\n",
            "El modelo no parece estar sobreentrenado\n"
          ]
        }
      ],
      "source": [
        "# REGRESIÓN LOGÍSTICA:\n",
        "\n",
        "# ******* Inlcuye a continuación todas las líneas de código y celdas que requieras: ***********\n",
        "\n",
        "from sklearn.linear_model import LogisticRegression\n",
        "from sklearn.metrics import accuracy_score, classification_report\n",
        "\n",
        "print(\"=\"*50)\n",
        "print(\"MODELO: REGRESIÓN LOGÍSTICA\")\n",
        "print(\"=\"*50)\n",
        "\n",
        "# Entrenamiento del modelo\n",
        "lr_model = LogisticRegression(max_iter=1000, random_state=42)\n",
        "lr_model.fit(trainEmb, y_train)\n",
        "\n",
        "# Evaluación en conjunto de entrenamiento\n",
        "y_train_pred_lr = lr_model.predict(trainEmb)\n",
        "train_accuracy_lr = accuracy_score(y_train, y_train_pred_lr)\n",
        "print(f\"Exactitud en Entrenamiento: {train_accuracy_lr:.4f}\")\n",
        "print(\"\\nReporte de clasificación en Entrenamiento:\")\n",
        "print(classification_report(y_train, y_train_pred_lr))\n",
        "\n",
        "# Evaluación en conjunto de validación\n",
        "y_val_pred_lr = lr_model.predict(valEmb)\n",
        "val_accuracy_lr = accuracy_score(y_val, y_val_pred_lr)\n",
        "print(f\"\\nExactitud en Validación: {val_accuracy_lr:.4f}\")\n",
        "print(\"\\nReporte de clasificación en Validación:\")\n",
        "print(classification_report(y_val, y_val_pred_lr))\n",
        "\n",
        "# Análisis de sobreentrenamiento\n",
        "print(f\"\\nDiferencia entre Entrenamiento y Validación: {train_accuracy_lr - val_accuracy_lr:.4f}\")\n",
        "if train_accuracy_lr - val_accuracy_lr > 0.05:\n",
        "    print(\"ADVERTENCIA: Posible sobreentrenamiento\")\n",
        "else:\n",
        "    print(\"El modelo no parece estar sobreentrenado\")\n",
        "\n",
        "\n",
        "\n",
        "# *********** Aquí termina la sección de agregar código *************\n"
      ]
    },
    {
      "cell_type": "code",
      "execution_count": 56,
      "metadata": {
        "id": "N4n70GHW0sl3"
      },
      "outputs": [
        {
          "name": "stdout",
          "output_type": "stream",
          "text": [
            "\n",
            "==================================================\n",
            "MODELO: RANDOM FOREST\n",
            "==================================================\n",
            "Exactitud en Entrenamiento: 0.9871\n",
            "\n",
            "Reporte de clasificación en Entrenamiento:\n",
            "              precision    recall  f1-score   support\n",
            "\n",
            "           0       0.98      0.99      0.99      1051\n",
            "           1       0.99      0.98      0.99      1049\n",
            "\n",
            "    accuracy                           0.99      2100\n",
            "   macro avg       0.99      0.99      0.99      2100\n",
            "weighted avg       0.99      0.99      0.99      2100\n",
            "\n",
            "\n",
            "Exactitud en Validación: 0.7689\n",
            "\n",
            "Reporte de clasificación en Validación:\n",
            "              precision    recall  f1-score   support\n",
            "\n",
            "           0       0.76      0.81      0.78       232\n",
            "           1       0.79      0.72      0.75       218\n",
            "\n",
            "    accuracy                           0.77       450\n",
            "   macro avg       0.77      0.77      0.77       450\n",
            "weighted avg       0.77      0.77      0.77       450\n",
            "\n",
            "\n",
            "Diferencia entre Entrenamiento y Validación: 0.2183\n",
            "ADVERTENCIA: Posible sobreentrenamiento\n"
          ]
        }
      ],
      "source": [
        "# BOSQUE ALEATORIO (Random Forest):\n",
        "\n",
        "# ******* Inlcuye a continuación todas las líneas de código y celdas que requieras: ***********\n",
        "\n",
        "from sklearn.ensemble import RandomForestClassifier\n",
        "\n",
        "print(\"\\n\" + \"=\"*50)\n",
        "print(\"MODELO: RANDOM FOREST\")\n",
        "print(\"=\"*50)\n",
        "\n",
        "# Entrenamiento del modelo\n",
        "rf_model = RandomForestClassifier(n_estimators=100, random_state=42)\n",
        "rf_model.fit(trainEmb, y_train)\n",
        "\n",
        "# Evaluación en conjunto de entrenamiento\n",
        "y_train_pred_rf = rf_model.predict(trainEmb)\n",
        "train_accuracy_rf = accuracy_score(y_train, y_train_pred_rf)\n",
        "print(f\"Exactitud en Entrenamiento: {train_accuracy_rf:.4f}\")\n",
        "print(\"\\nReporte de clasificación en Entrenamiento:\")\n",
        "print(classification_report(y_train, y_train_pred_rf))\n",
        "\n",
        "# Evaluación en conjunto de validación\n",
        "y_val_pred_rf = rf_model.predict(valEmb)\n",
        "val_accuracy_rf = accuracy_score(y_val, y_val_pred_rf)\n",
        "print(f\"\\nExactitud en Validación: {val_accuracy_rf:.4f}\")\n",
        "print(\"\\nReporte de clasificación en Validación:\")\n",
        "print(classification_report(y_val, y_val_pred_rf))\n",
        "\n",
        "# Análisis de sobreentrenamiento\n",
        "print(f\"\\nDiferencia entre Entrenamiento y Validación: {train_accuracy_rf - val_accuracy_rf:.4f}\")\n",
        "if train_accuracy_rf - val_accuracy_rf > 0.05:\n",
        "    print(\"ADVERTENCIA: Posible sobreentrenamiento\")\n",
        "else:\n",
        "    print(\"El modelo no parece estar sobreentrenado\")\n",
        "\n",
        "\n",
        "# *********** Aquí termina la sección de agregar código *************"
      ]
    },
    {
      "cell_type": "markdown",
      "metadata": {
        "id": "WDIiSHvg0_hm"
      },
      "source": [
        "# **Pregunta - 9:**"
      ]
    },
    {
      "cell_type": "markdown",
      "metadata": {
        "id": "dJJtALGZHrGk"
      },
      "source": [
        "\n",
        "\n",
        "Reporte del mejor modelo con el conjunto de Prueba (Test).\n"
      ]
    },
    {
      "cell_type": "code",
      "execution_count": 57,
      "metadata": {
        "id": "ETv4VLjP1GYt"
      },
      "outputs": [
        {
          "name": "stdout",
          "output_type": "stream",
          "text": [
            "==================================================\n",
            "EVALUACIÓN DEL MEJOR MODELO EN CONJUNTO DE PRUEBA\n",
            "==================================================\n",
            "Exactitud en Prueba: 0.8200\n",
            "\n",
            "Reporte de Clasificación:\n",
            "              precision    recall  f1-score   support\n",
            "\n",
            "           0       0.82      0.81      0.81       217\n",
            "           1       0.82      0.83      0.83       233\n",
            "\n",
            "    accuracy                           0.82       450\n",
            "   macro avg       0.82      0.82      0.82       450\n",
            "weighted avg       0.82      0.82      0.82       450\n",
            "\n"
          ]
        },
        {
          "data": {
            "image/png": "[encoded data removed]",
            "text/plain": [
              "<Figure size 800x600 with 2 Axes>"
            ]
          },
          "metadata": {},
          "output_type": "display_data"
        },
        {
          "name": "stdout",
          "output_type": "stream",
          "text": [
            "\n",
            "Métricas adicionales:\n",
            "Precisión (Precision): 0.8220\n",
            "Exhaustividad (Recall): 0.8326\n",
            "Medida F1 (F1-Score): 0.8273\n",
            "Especificidad (Specificity): 0.8065\n",
            "\n",
            "Comparación con los resultados de la semana anterior:\n",
            "* Aquí puedes añadir una comparación con los resultados de la semana anterior *\n",
            "* Por ejemplo: 'El modelo embebido mejora en X% la exactitud sobre el modelo tradicional' *\n"
          ]
        }
      ],
      "source": [
        "# ******* Inlcuye a continuación todas las líneas de código y celdas que requieras: ***********\n",
        "\n",
        "from sklearn.metrics import confusion_matrix\n",
        "\n",
        "mejor_modelo = lr_model  # Modelo de regersión lineal\n",
        "\n",
        "# Evaluación en el conjunto de prueba\n",
        "y_test_pred = mejor_modelo.predict(testEmb)\n",
        "test_accuracy = accuracy_score(y_test, y_test_pred)\n",
        "\n",
        "# Mostrar resultados\n",
        "print(\"=\"*50)\n",
        "print(\"EVALUACIÓN DEL MEJOR MODELO EN CONJUNTO DE PRUEBA\")\n",
        "print(\"=\"*50)\n",
        "print(f\"Exactitud en Prueba: {test_accuracy:.4f}\")\n",
        "\n",
        "# Classification Report\n",
        "print(\"\\nReporte de Clasificación:\")\n",
        "print(classification_report(y_test, y_test_pred))\n",
        "\n",
        "# Matriz de Confusión\n",
        "cm = confusion_matrix(y_test, y_test_pred)\n",
        "\n",
        "# Visualización de la matriz de confusión\n",
        "plt.figure(figsize=(8, 6))\n",
        "sns.heatmap(cm, annot=True, fmt='d', cmap='Blues', \n",
        "            xticklabels=['Negativo (0)', 'Positivo (1)'],\n",
        "            yticklabels=['Negativo (0)', 'Positivo (1)'])\n",
        "plt.xlabel('Predicción')\n",
        "plt.ylabel('Valor Real')\n",
        "plt.title('Matriz de Confusión - Mejor Modelo')\n",
        "plt.tight_layout()\n",
        "plt.show()\n",
        "\n",
        "# Calcular métricas adicionales\n",
        "tn, fp, fn, tp = cm.ravel()\n",
        "precision = tp / (tp + fp)\n",
        "recall = tp / (tp + fn)\n",
        "f1 = 2 * (precision * recall) / (precision + recall)\n",
        "specificity = tn / (tn + fp)\n",
        "\n",
        "print(\"\\nMétricas adicionales:\")\n",
        "print(f\"Precisión (Precision): {precision:.4f}\")\n",
        "print(f\"Exhaustividad (Recall): {recall:.4f}\")\n",
        "print(f\"Medida F1 (F1-Score): {f1:.4f}\")\n",
        "print(f\"Especificidad (Specificity): {specificity:.4f}\")\n",
        "\n",
        "# Comparar con los resultados de la semana anterior\n",
        "print(\"\\nComparación con los resultados de la semana anterior:\")\n",
        "print(\"* Aquí puedes añadir una comparación con los resultados de la semana anterior *\")\n",
        "print(\"* Por ejemplo: 'El modelo embebido mejora en X% la exactitud sobre el modelo tradicional' *\")\n",
        "\n",
        "\n",
        "# *********** Aquí termina la sección de agregar código *************"
      ]
    },
    {
      "cell_type": "markdown",
      "metadata": {
        "id": "NbhBUBKJp1MB"
      },
      "source": [
        "# **Pregunta - 10:**"
      ]
    },
    {
      "cell_type": "code",
      "execution_count": null,
      "metadata": {
        "id": "3zPSi-H7p6ga"
      },
      "outputs": [],
      "source": [
        "# Incluye todas las líneas de código y celdas que consideres adecuadas para este ejercicio.\n",
        "\n",
        "\n",
        "None\n",
        "\n",
        "\n"
      ]
    },
    {
      "cell_type": "markdown",
      "metadata": {
        "id": "YCkh2WfN1MC1"
      },
      "source": [
        "# **Pregunta - 11:**"
      ]
    },
    {
      "cell_type": "markdown",
      "metadata": {
        "id": "4ySFuDQtVuK5"
      },
      "source": [
        "\n",
        "\n",
        "Incluye tus comentarios finales de la actividad.\n",
        "\n",
        "### ++++++++ Inicia la sección de agregar texto: +++++++++++\n",
        "\n",
        "None\n",
        "\n",
        "### ++++++++ Termina la sección de agregar texto: +++++++++++"
      ]
    },
    {
      "cell_type": "markdown",
      "metadata": {
        "id": "bgKHmQTbWJT1"
      },
      "source": [
        "# **Fin de la Actividad de Vectores Embebidos - OpenAI**"
      ]
    }
  ],
  "metadata": {
    "colab": {
      "collapsed_sections": [
        "4c34ZOnna3Gu",
        "MfZZ0stLmWJN",
        "ygchEdcKqIzU",
        "1qjKoEqiqBN1",
        "RS0Hxj25vTWh",
        "ToqRl7fT_fn2",
        "W4S7q0yR0Mpi",
        "pibp1LA91CP_",
        "WDIiSHvg0_hm",
        "NbhBUBKJp1MB",
        "YCkh2WfN1MC1"
      ],
      "provenance": []
    },
    "kernelspec": {
      "display_name": "Python 3",
      "name": "python3"
    },
    "language_info": {
      "codemirror_mode": {
        "name": "ipython",
        "version": 3
      },
      "file_extension": ".py",
      "mimetype": "text/x-python",
      "name": "python",
      "nbconvert_exporter": "python",
      "pygments_lexer": "ipython3",
      "version": "3.12.2"
    }
  },
  "nbformat": 4,
  "nbformat_minor": 0
}
